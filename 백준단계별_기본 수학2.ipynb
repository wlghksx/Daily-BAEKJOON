{
  "nbformat": 4,
  "nbformat_minor": 0,
  "metadata": {
    "colab": {
      "name": "백준단계별 - 기본 수학2.ipynb",
      "provenance": [],
      "authorship_tag": "ABX9TyMemMpKF3JbgJhQxOasM/lV",
      "include_colab_link": true
    },
    "kernelspec": {
      "name": "python3",
      "display_name": "Python 3"
    },
    "language_info": {
      "name": "python"
    }
  },
  "cells": [
    {
      "cell_type": "markdown",
      "metadata": {
        "id": "view-in-github",
        "colab_type": "text"
      },
      "source": [
        "<a href=\"https://colab.research.google.com/github/wlghksx/Daily-BAEKJOON/blob/main/%EB%B0%B1%EC%A4%80%EB%8B%A8%EA%B3%84%EB%B3%84_%EA%B8%B0%EB%B3%B8%20%EC%88%98%ED%95%992.ipynb\" target=\"_parent\"><img src=\"https://colab.research.google.com/assets/colab-badge.svg\" alt=\"Open In Colab\"/></a>"
      ]
    },
    {
      "cell_type": "markdown",
      "metadata": {
        "id": "TPWekmyO0MIP"
      },
      "source": [
        "## 4948 베르트랑 공준"
      ]
    },
    {
      "cell_type": "code",
      "metadata": {
        "id": "QzG1gDh60UPW"
      },
      "source": [
        "'''\n",
        "\n",
        "input_lst = []\n",
        "\n",
        "while True : \n",
        "  n = int(input())\n",
        "  input_lst.append(n)\n",
        "  if n == 0 :\n",
        "    break\n",
        "\n",
        "for n in input_lst:\n",
        "  num_lst = []\n",
        "  for i in range (n+1,2*n+1) :\n",
        "    if i == 1 :\n",
        "      pass\n",
        "    else :\n",
        "      num_lst.append(i)\n",
        "    for j in range(2,i):\n",
        "      if i%j == 0 :\n",
        "        num_lst.remove(i)\n",
        "        break\n",
        "  print(len(num_lst))\n",
        "  \n",
        "'''\n",
        "# 시간 초과로 인한 오류 소수의 범위를 제한해주어야 한다..\n"
      ],
      "execution_count": null,
      "outputs": []
    },
    {
      "cell_type": "code",
      "metadata": {
        "id": "O1pG80OW1rCs"
      },
      "source": [
        "import math\n",
        "import sys\n",
        "\n",
        "def sosu(num):     #소수 구하는 함수 (3 5 7 11 ...)\n",
        "    if num == 1:  #1은 소수가 아니다.\n",
        "        return False\n",
        "    else :\n",
        "        for i in range(2,int(math.sqrt(num))+1) :\n",
        "            if num%i == 0:\n",
        "                return False\n",
        "        return True\n",
        "\n",
        "# 소수의 범위를 제한해 주기 위해 문제에서 제한한 범위안에 속하는 숫자 리스트를 작성한다.\n",
        "\n",
        "all_lst = list(range(2,246912)) # 제한된 범위의 숫자\n",
        "sosu_lst = []  # 제한된 범위에서 소수만 뽑기 위한 빈 리스트\n",
        "\n",
        "for i in all_lst :\n",
        "  if sosu(i) :\n",
        "    sosu_lst.append(i) # 제한된 범위에서 소수만 추출하여 저장\n",
        "\n",
        "\n",
        "while True : \n",
        "  n = int(input())  # 입력값을 하나씩 받아서\n",
        "  count = 0         # n~2n 사이의 소수를 세는 count는 매번 초기화\n",
        "  if n == 0 :       # 0이 입력되면 종료\n",
        "    break\n",
        "  for i in sosu_lst : \n",
        "    if n < i <= 2*n :\n",
        "      count += 1\n",
        "  print(count)\n",
        "\n",
        "    "
      ],
      "execution_count": null,
      "outputs": []
    },
    {
      "cell_type": "markdown",
      "metadata": {
        "id": "vpLA3INI5My9"
      },
      "source": [
        "## 9020번 골드바흐의 추측"
      ]
    },
    {
      "cell_type": "code",
      "metadata": {
        "id": "mb-RpvMk9Omw"
      },
      "source": [
        "'''\n",
        "import math\n",
        "import sys\n",
        "\n",
        "def sosu(num):     #소수 구하는 함수 (3 5 7 11 ...)\n",
        "    if num == 1:  #1은 소수가 아니다.\n",
        "        return False\n",
        "    else :\n",
        "        for i in range(2,int(math.sqrt(num))+1) :\n",
        "            if num%i == 0:\n",
        "                return False\n",
        "        return True\n",
        "\n",
        "all_lst = list(range(2,10000)) # 제한된 범위의 숫자\n",
        "sosu_lst = []  # 제한된 범위에서 소수만 뽑기 위한 빈 리스트\n",
        "\n",
        "for i in all_lst :\n",
        "  if sosu(i) :\n",
        "    sosu_lst.append(i) # 제한된 범위에서 소수만 추출하여 저장\n",
        "\n",
        "n = int(input())\n",
        "\n",
        "for i in range(n):\n",
        "  num = int(input())\n",
        "  gold_bah = []\n",
        "  for j in sosu_lst :\n",
        "    if (num - j) in sosu_lst:\n",
        "      if len(gold_bah) == 0:\n",
        "        gold_bah.append(j)\n",
        "        gold_bah.append(num-j)\n",
        "      if abs(j-(num-j)) < abs(gold_bah[0]-gold_bah[1]) :\n",
        "        gold_bah = []\n",
        "        gold_bah.append(j)\n",
        "        gold_bah.append(num-j)\n",
        "  print(gold_bah)\n",
        "\n",
        "'''\n",
        "\n",
        "# 위와 같이 코드를 짰더니 시간 초과 오류가 발생하였다. \n",
        "# 골드바흐는 짝수에 대한 규칙이니 홀+홀 짝+짝 의 규칙을 이용하여 좀 더 세분화하여 \n",
        "#시간을 줄여보도록 하겠다\n"
      ],
      "execution_count": null,
      "outputs": []
    },
    {
      "cell_type": "code",
      "metadata": {
        "id": "7RcGV3XD-oXC"
      },
      "source": [
        "'''\n",
        "import math\n",
        "import sys\n",
        "\n",
        "def sosu(num):     #소수 구하는 함수 (3 5 7 11 ...)\n",
        "    if num == 1:  #1은 소수가 아니다.\n",
        "        return False\n",
        "    else :\n",
        "        for i in range(2,int(math.sqrt(num))+1) :\n",
        "            if num%i == 0:\n",
        "                return False\n",
        "        return True\n",
        "\n",
        "all_lst = list(range(2,10000)) # 제한된 범위의 숫자\n",
        "sosu_even = []  # 제한된 범위에서 소수만 뽑기 위한 빈 리스트\n",
        "sosu_odd = []\n",
        "\n",
        "for i in all_lst :\n",
        "  if sosu(i) % 2 == 0:\n",
        "    sosu_even.append(i) # 제한된 범위에서 짝수인 소수만 추출하여 저장\n",
        "  else : \n",
        "    sosu_odd.append(i)  # 제한된 범위에서 홀수인 소수만 추출하여 저장\n",
        "  \n",
        "\n",
        "n = int(input())\n",
        "\n",
        "for i in range(n):\n",
        "  \n",
        "  num = int(input())\n",
        "  gold_bah = []\n",
        "  \n",
        "  for j in sosu_even :\n",
        "    if (num - j) in sosu_odd:\n",
        "      if len(gold_bah) == 0:\n",
        "        gold_bah.append(j)\n",
        "        gold_bah.append(num-j)\n",
        "      if abs(j-(num-j)) < abs(gold_bah[0]-gold_bah[1]) :\n",
        "        gold_bah = []\n",
        "        gold_bah.append(j)\n",
        "        gold_bah.append(num-j)\n",
        "  \n",
        "  for j in sosu_odd :\n",
        "    if (num - j) in sosu_odd:\n",
        "      if len(gold_bah) == 0:\n",
        "        gold_bah.append(j)\n",
        "        gold_bah.append(num-j)\n",
        "      if abs(j-(num-j)) < abs(gold_bah[0]-gold_bah[1]) :\n",
        "        gold_bah = []\n",
        "        gold_bah.append(j)\n",
        "        gold_bah.append(num-j)\n",
        "  \n",
        "  \n",
        "  print(gold_bah)\n",
        "\n",
        "  '''\n",
        "  # 이 코드또한 마찬가지로 시간초과 오류가 발생하였다. 아무래도 주어지는 입력값을 모든 소수에 대해 탐색하는 것에서\n",
        "  # 시간초과 오류가 발생하는 듯 하다.\n",
        "  # 입력값을 모든 소수에 대해 탐색하는 것이 아니라, 입력값의 구성요소가 소수인지를 탐색해야 할 것 같다."
      ],
      "execution_count": null,
      "outputs": []
    },
    {
      "cell_type": "code",
      "metadata": {
        "id": "pp8QAoTtEoIQ"
      },
      "source": [
        "import math\n",
        "import sys\n",
        "\n",
        "def sosu(num):     #소수 구하는 함수 (3 5 7 11 ...)\n",
        "    if num == 1:  #1은 소수가 아니다.\n",
        "        return False\n",
        "    else :\n",
        "        for i in range(2,int(math.sqrt(num))+1) :\n",
        "            if num%i == 0:\n",
        "                return False\n",
        "        return True\n",
        "\n",
        "n = int(input()) # 입력값 개수\n",
        "\n",
        "for i in range(n) :\n",
        "  a = int(input()) # 입력값\n",
        "  b = int(a/2) # 중간부터 탐색하기 위해 짝수니까 2로 나눈 값은 무조건 정수\n",
        "  for j in range(b): # 입력값에 대해 중간부터 소수인지 판단.\n",
        "    if sosu(b) and sosu(a-b) :\n",
        "      print(b, a-b) # 소수가 맞다면 작은 수부터 출력.\n",
        "      break # 중간부터 찾았으므로 더이상 비교 필요하지 않다.\n",
        "    else :\n",
        "      b -= 1 # 만일 두 수가 소수가 아니라면 b를 1씩 줄여가며 b, a-b가 소수가 되는 조합을 찾는다."
      ],
      "execution_count": null,
      "outputs": []
    }
  ]
}