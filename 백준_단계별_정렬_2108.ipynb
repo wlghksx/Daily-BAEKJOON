{
  "nbformat": 4,
  "nbformat_minor": 0,
  "metadata": {
    "colab": {
      "name": "백준 단계별 - 정렬 2108.ipynb",
      "provenance": [],
      "collapsed_sections": [],
      "authorship_tag": "ABX9TyOFDP+GRGsNW1t29XaYSPUG",
      "include_colab_link": true
    },
    "kernelspec": {
      "name": "python3",
      "display_name": "Python 3"
    },
    "language_info": {
      "name": "python"
    }
  },
  "cells": [
    {
      "cell_type": "markdown",
      "metadata": {
        "id": "view-in-github",
        "colab_type": "text"
      },
      "source": [
        "<a href=\"https://colab.research.google.com/github/wlghksx/Daily-BAEKJOON/blob/main/%EB%B0%B1%EC%A4%80_%EB%8B%A8%EA%B3%84%EB%B3%84_%EC%A0%95%EB%A0%AC_2108.ipynb\" target=\"_parent\"><img src=\"https://colab.research.google.com/assets/colab-badge.svg\" alt=\"Open In Colab\"/></a>"
      ]
    },
    {
      "cell_type": "markdown",
      "metadata": {
        "id": "OfGfahzrjTGW"
      },
      "source": [
        "# 2108번 통계학"
      ]
    },
    {
      "cell_type": "code",
      "metadata": {
        "colab": {
          "base_uri": "https://localhost:8080/"
        },
        "id": "BrMKCsT9je-_",
        "outputId": "9f6c0ad1-9317-4c3f-8425-0d4273d29d49"
      },
      "source": [
        "'''\n",
        "from collections import Counter as cnt\n",
        "import math\n",
        "\n",
        "n = int(input())\n",
        "num_lst = []\n",
        "if n == 1 :\n",
        "  num_lst.append(int(input()))\n",
        "else:\n",
        "  for i in range(n):\n",
        "    num_lst.append(int(input()))\n",
        "  num_lst.sort()\n",
        "\n",
        "mean = round((sum(num_lst)/len(num_lst)),0) #평균\n",
        "\n",
        "median = num_lst[math.floor(len(num_lst)/2)] #중앙값\n",
        "\n",
        "mode_lst = (cnt(num_lst)).most_common(2) # 최빈값 2개 리스트\n",
        "if mode_lst[0][1] == mode_lst[1][1] : #가장 작은 최빈값 2개의 횟수가 같은 경우\n",
        "  mode = mode_lst[1][0] # 두번쨰로 작은 최빈값을 최반값으로 설정\n",
        "else : \n",
        "  mode = mode_lst[0][0] # 아닐경우 가장 작은 최빈값을 최빈\n",
        "\n",
        "range_num = num_lst[-1] - num_lst[0] #범위\n",
        "\n",
        "\n",
        "print(int(mean))\n",
        "print(median)\n",
        "print(mode)\n",
        "print(range_num)\n",
        "'''"
      ],
      "execution_count": 18,
      "outputs": [
        {
          "output_type": "stream",
          "text": [
            "5\n",
            "1\n",
            "1\n",
            "5\n",
            "5\n",
            "9\n",
            "[1, 1, 5, 5, 9]\n",
            "[(1, 2), (5, 2)]\n",
            "4\n",
            "5\n",
            "5\n",
            "8\n"
          ],
          "name": "stdout"
        }
      ]
    },
    {
      "cell_type": "code",
      "metadata": {
        "colab": {
          "base_uri": "https://localhost:8080/"
        },
        "id": "mF_AqrfIkdCE",
        "outputId": "d0636d8a-5e23-4c23-bb57-8c934fcea493"
      },
      "source": [
        "from collections import Counter as cnt\n",
        "import math\n",
        "import sys # 추가 1 : input을 stdin을 이용하여 받았다.\n",
        "\n",
        "n = int(input())\n",
        "num_lst = []\n",
        "\n",
        "for _ in range(n):\n",
        "    num_lst.append(int(sys.stdin.readline()))\n",
        "\n",
        "num_lst.sort()\n",
        "\n",
        "mean = round((sum(num_lst)/len(num_lst)),0) #평균\n",
        "\n",
        "median = num_lst[len(num_lst)//2] #중앙값  # 추가 2 내림이 아닌 간단하게 몫을 사용하여 연산을 한번 줄였다.\n",
        "\n",
        "mode_lst = (cnt(num_lst)).most_common() # 최빈값 리스트\n",
        "if len(mode_lst) == 1:\n",
        "  mode = mode_lst[0][0]\n",
        "else:\n",
        "  if mode_lst[0][1] == mode_lst[1][1] : #가장 작은 최빈값 2개의 횟수가 같은 경우\n",
        "    mode = mode_lst[1][0] # 두번쨰로 작은 최빈값을 최반값으로 설정\n",
        "  else : a\n",
        "    mode = mode_lst[0][0] # 아닐경우 가장 작은 최빈값을 최빈\n",
        "\n",
        "range_num = max(num_lst) - min(num_lst) #범위\n",
        "\n",
        "\n",
        "print(int(mean))\n",
        "print(median)\n",
        "print(mode)\n",
        "print(range_num)"
      ],
      "execution_count": 24,
      "outputs": [
        {
          "output_type": "stream",
          "text": [
            "5\n",
            "1\n",
            "3\n",
            "8\n",
            "-2\n",
            "2\n",
            "2\n",
            "8\n",
            "3\n",
            "10\n"
          ],
          "name": "stdout"
        }
      ]
    },
    {
      "cell_type": "markdown",
      "metadata": {
        "id": "KqaIODk2pPga"
      },
      "source": [
        "# 알아낸 것\n",
        "- 중앙값은 몫으로 나타내면 편하다.\n",
        "- 리스트의 최빈값을 구할 떄는 counter를 사용하면 편하다\n",
        "- 여러 줄을 읽을 때는 stdin을 사용해야 빠르다."
      ]
    }
  ]
}