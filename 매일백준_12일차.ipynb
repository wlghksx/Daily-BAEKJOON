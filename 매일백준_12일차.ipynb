{
  "nbformat": 4,
  "nbformat_minor": 0,
  "metadata": {
    "colab": {
      "name": "매일백준_12일차.ipynb",
      "provenance": [],
      "authorship_tag": "ABX9TyMMAZLznZaTIBq+ymDfr64j",
      "include_colab_link": true
    },
    "kernelspec": {
      "name": "python3",
      "display_name": "Python 3"
    },
    "language_info": {
      "name": "python"
    }
  },
  "cells": [
    {
      "cell_type": "markdown",
      "metadata": {
        "id": "view-in-github",
        "colab_type": "text"
      },
      "source": [
        "<a href=\"https://colab.research.google.com/github/wlghksx/Daily-BAEKJOON/blob/main/%EB%A7%A4%EC%9D%BC%EB%B0%B1%EC%A4%80_12%EC%9D%BC%EC%B0%A8.ipynb\" target=\"_parent\"><img src=\"https://colab.research.google.com/assets/colab-badge.svg\" alt=\"Open In Colab\"/></a>"
      ]
    },
    {
      "cell_type": "markdown",
      "metadata": {
        "id": "Q7mzcUCAU4nd"
      },
      "source": [
        "# 1712번 손익분기점"
      ]
    },
    {
      "cell_type": "code",
      "metadata": {
        "colab": {
          "base_uri": "https://localhost:8080/"
        },
        "id": "dprWZ-c4VGBq",
        "outputId": "87abad81-1cdb-4730-d432-81fe68302580"
      },
      "source": [
        "A,B,C = input().split()\n",
        "A = int(A)\n",
        "B = int(B)\n",
        "C = int(C)\n",
        "\n",
        "if B>=C :\n",
        "  print(-1)\n",
        "else :\n",
        "  print(int(A/(C-B)+1))"
      ],
      "execution_count": 6,
      "outputs": [
        {
          "output_type": "stream",
          "text": [
            "1000 70 170\n",
            "11\n"
          ],
          "name": "stdout"
        }
      ]
    },
    {
      "cell_type": "markdown",
      "metadata": {
        "id": "4mWS_xxjZenb"
      },
      "source": [
        "# 2292번 벌집"
      ]
    },
    {
      "cell_type": "code",
      "metadata": {
        "id": "ZxdaqDPkWOae"
      },
      "source": [
        "n1 = [2,3,4,5,6,7]\n",
        "n2 = [8,9,10,11,12,13,14,15,16,17,18,19]\n",
        "n3 = [20,21,22,23,24,25,26,27,28,29,30,31,32,33,33,35,36,37]\n",
        "n4 = [38,39,40,41,42,43,44,45,46,47,48,49,50,51,52,53,54,55,56,57,58,59,60,61]\n",
        "n5 = [62,63,64,65,66,67,68,69,70]\n",
        "\n",
        "n = int(input())\n",
        "\n",
        "if n in n1 :\n",
        "  print(2)\n",
        "elif n in n2 :\n",
        "  print(3)\n",
        "elif n in n3:\n",
        "  print(4)\n",
        "elif n in n4:\n",
        "  print(5)\n",
        "elif n in n5:\n",
        "  print(6)"
      ],
      "execution_count": null,
      "outputs": []
    },
    {
      "cell_type": "markdown",
      "metadata": {
        "id": "WWZz8EK5cH2h"
      },
      "source": [
        "## 처음에는 주어진 벌집만으로 표기하는 줄 알았는데 입력값의 범위가 더 넓은 것을 확인하고 규칙을 적용했다."
      ]
    },
    {
      "cell_type": "code",
      "metadata": {
        "colab": {
          "base_uri": "https://localhost:8080/"
        },
        "id": "2CoLX1ghY04p",
        "outputId": "b78fcfc5-704e-4c3a-f645-4404540721c9"
      },
      "source": [
        "n = int(input())\n",
        "\n",
        "cnt_index = 1\n",
        "cnt = 1\n",
        "cnt_plus = 6\n",
        "\n",
        "while n>cnt :\n",
        "  cnt_index += 1\n",
        "  cnt = cnt + cnt_plus\n",
        "  cnt_plus += 6\n",
        "\n",
        "print(cnt_index)\n"
      ],
      "execution_count": 15,
      "outputs": [
        {
          "output_type": "stream",
          "text": [
            "19\n",
            "3\n"
          ],
          "name": "stdout"
        }
      ]
    },
    {
      "cell_type": "markdown",
      "metadata": {
        "id": "fvGyhf1ebgp8"
      },
      "source": [
        "# 1193번 분수찾기"
      ]
    },
    {
      "cell_type": "code",
      "metadata": {
        "colab": {
          "base_uri": "https://localhost:8080/"
        },
        "id": "UApc3ukWcojz",
        "outputId": "abd45817-7aaa-4047-c130-519e1adcde9a"
      },
      "source": [
        "n_start = 2\n",
        "n = int(input())\n",
        "cnt = 0\n",
        "\n",
        "while cnt < n :\n",
        "  cnt += n_start - 1\n",
        "  n_start += 1\n",
        "\n",
        "where = cnt - n # 끝에서 부터 대각선 내 위치\n",
        "cross_num = n_start -1 # 대각선 숫자 합\n",
        "\n",
        "if (cross_num%2) == 0:\n",
        "  print(\"%d/%d\" %((1+where),(cross_num-1-where)))\n",
        "else :\n",
        "  print(\"%d/%d\" %((cross_num-1-where),(1+where)))\n",
        "  "
      ],
      "execution_count": 31,
      "outputs": [
        {
          "output_type": "stream",
          "text": [
            "4\n",
            "2\n",
            "4\n",
            "3/1\n"
          ],
          "name": "stdout"
        }
      ]
    }
  ]
}