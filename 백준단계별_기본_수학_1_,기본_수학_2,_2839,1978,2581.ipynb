{
  "nbformat": 4,
  "nbformat_minor": 0,
  "metadata": {
    "colab": {
      "name": "백준단계별 - 기본 수학 1 ,기본 수학 2, 2839,1978,2581.ipynb",
      "provenance": [],
      "collapsed_sections": [],
      "authorship_tag": "ABX9TyM0gzJi1cPipwnqjxJjNiox",
      "include_colab_link": true
    },
    "kernelspec": {
      "name": "python3",
      "display_name": "Python 3"
    },
    "language_info": {
      "name": "python"
    }
  },
  "cells": [
    {
      "cell_type": "markdown",
      "metadata": {
        "id": "view-in-github",
        "colab_type": "text"
      },
      "source": [
        "<a href=\"https://colab.research.google.com/github/wlghksx/Daily-BAEKJOON/blob/main/%EB%B0%B1%EC%A4%80%EB%8B%A8%EA%B3%84%EB%B3%84_%EA%B8%B0%EB%B3%B8_%EC%88%98%ED%95%99_1_%2C%EA%B8%B0%EB%B3%B8_%EC%88%98%ED%95%99_2%2C_2839%2C1978%2C2581.ipynb\" target=\"_parent\"><img src=\"https://colab.research.google.com/assets/colab-badge.svg\" alt=\"Open In Colab\"/></a>"
      ]
    },
    {
      "cell_type": "markdown",
      "metadata": {
        "id": "iWgLSTMZXFUg"
      },
      "source": [
        "## 2839번 설탕 배달"
      ]
    },
    {
      "cell_type": "code",
      "metadata": {
        "id": "fCGNlznTXJmJ"
      },
      "source": [
        "n = int(input())\n",
        "count = 0\n",
        "while True :\n",
        "  if (n%5) == 0 :\n",
        "    count += (n//5)\n",
        "    print(count)\n",
        "    break\n",
        "  n = n-3\n",
        "  count += 1\n",
        "  if n<0:\n",
        "    print(-1)\n",
        "    break"
      ],
      "execution_count": null,
      "outputs": []
    },
    {
      "cell_type": "code",
      "metadata": {
        "colab": {
          "base_uri": "https://localhost:8080/"
        },
        "id": "J7NP8bHtauco",
        "outputId": "2960c83d-f402-4672-8919-9690af7e3838"
      },
      "source": [
        "n = int(input())\n",
        "\n",
        "def sol(N) :\n",
        "  sum = []\n",
        "  for i in range(0,N):\n",
        "    for j in range(0,N):\n",
        "      if 3*i + 5*j == N :\n",
        "        sum.append(i+j)\n",
        "  if not sum:\n",
        "    print(-1)\n",
        "  else :\n",
        "    print(min(sum))\n",
        "      \n",
        "sol(n)"
      ],
      "execution_count": null,
      "outputs": [
        {
          "output_type": "stream",
          "text": [
            "7\n",
            "-1\n"
          ],
          "name": "stdout"
        }
      ]
    },
    {
      "cell_type": "markdown",
      "metadata": {
        "id": "MGiAFL4BYXQa"
      },
      "source": [
        "# 기본 수학 2"
      ]
    },
    {
      "cell_type": "markdown",
      "metadata": {
        "id": "SGMnEg_fX5nY"
      },
      "source": [
        "## 1978번 소수 찾기"
      ]
    },
    {
      "cell_type": "code",
      "metadata": {
        "id": "X2tXh6TfX7yF",
        "colab": {
          "base_uri": "https://localhost:8080/"
        },
        "outputId": "9edb812b-6635-41c6-c690-fd80804f758b"
      },
      "source": [
        "n = int(input())\n",
        "\n",
        "num_lst = list(map(int,input().split()))\n",
        "\n",
        "for i in range(2,1001):\n",
        "  for j in num_lst :\n",
        "    if i < j :\n",
        "      if (j%i) == 0 :\n",
        "        num_lst.remove(j)\n",
        "\n",
        "if 1 in num_lst :\n",
        "  num_lst.remove(1)\n",
        "\n",
        "print(len(num_lst))\n"
      ],
      "execution_count": null,
      "outputs": [
        {
          "output_type": "stream",
          "text": [
            "4\n",
            "1 3 5 7\n",
            "3\n"
          ],
          "name": "stdout"
        }
      ]
    },
    {
      "cell_type": "markdown",
      "metadata": {
        "id": "g8duR6GnbDW4"
      },
      "source": [
        "## 2581 소수"
      ]
    },
    {
      "cell_type": "code",
      "metadata": {
        "colab": {
          "base_uri": "https://localhost:8080/"
        },
        "id": "Dd6mCzJxcC-S",
        "outputId": "a15496a8-6763-4e6c-ae31-e19e18bf5117"
      },
      "source": [
        "M = int(input())\n",
        "N = int(input())\n",
        "num_lst = []\n",
        "\n",
        "for i in range(M,N+1):\n",
        "  num_lst.append(i)\n",
        "  for j in range(2,i):\n",
        "    if i%j == 0 :\n",
        "      num_lst.remove(i)\n",
        "      break\n",
        "if 1 in num_lst :\n",
        "  num_lst.remove(1)\n",
        "  \n",
        "if not num_lst:\n",
        "  print(-1)\n",
        "else :\n",
        "  print(sum(num_lst))\n",
        "  print(min(num_lst))\n",
        "\n"
      ],
      "execution_count": 41,
      "outputs": [
        {
          "output_type": "stream",
          "text": [
            "1\n",
            "10\n",
            "17\n",
            "2\n"
          ],
          "name": "stdout"
        }
      ]
    },
    {
      "cell_type": "code",
      "metadata": {
        "id": "NuCHll_xedUf"
      },
      "source": [
        ""
      ],
      "execution_count": null,
      "outputs": []
    }
  ]
}