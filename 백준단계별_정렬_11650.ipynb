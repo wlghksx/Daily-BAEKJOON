{
  "nbformat": 4,
  "nbformat_minor": 0,
  "metadata": {
    "colab": {
      "name": "백준단계별 정렬 11650.ipynb",
      "provenance": [],
      "authorship_tag": "ABX9TyML5UUbg8srg9V4HIFDN1zc",
      "include_colab_link": true
    },
    "kernelspec": {
      "name": "python3",
      "display_name": "Python 3"
    },
    "language_info": {
      "name": "python"
    }
  },
  "cells": [
    {
      "cell_type": "markdown",
      "metadata": {
        "id": "view-in-github",
        "colab_type": "text"
      },
      "source": [
        "<a href=\"https://colab.research.google.com/github/wlghksx/Daily-BAEKJOON/blob/main/%EB%B0%B1%EC%A4%80%EB%8B%A8%EA%B3%84%EB%B3%84_%EC%A0%95%EB%A0%AC_11650.ipynb\" target=\"_parent\"><img src=\"https://colab.research.google.com/assets/colab-badge.svg\" alt=\"Open In Colab\"/></a>"
      ]
    },
    {
      "cell_type": "markdown",
      "metadata": {
        "id": "pSz4d9m7qpsG"
      },
      "source": [
        "# 11650번 좌표 정렬하기"
      ]
    },
    {
      "cell_type": "code",
      "metadata": {
        "id": "PI9sHLAhqvgY"
      },
      "source": [
        "'''\n",
        "n = int(input())\n",
        "coor_lst = []\n",
        "for i in range(n):\n",
        "  coor_lst.append(list(map(int,input().split()))) # 좌표를 리스트 형태로 받아 coor_lst에 저장\n",
        "# coor_lst.sort() # 리스트의 기본 정렬함수도 첫번째 인수를 오름차순으로 정렬 후 같은 값이 있는 경우는 두번째 인수를 통해 정리\n",
        "coor_lst.sort(key=lambda x:(x[0], x[1])) \n",
        "\n",
        "for i in coor_lst:\n",
        "  #print(*i,sep = ' ')\n",
        "  print(i[0], i[1]) \n",
        "'''"
      ],
      "execution_count": null,
      "outputs": []
    },
    {
      "cell_type": "code",
      "metadata": {
        "id": "cCCe7U1urT9q"
      },
      "source": [
        "n = int(input())\n",
        "coor_lst = []\n",
        "for i in range(n):\n",
        "  coor_lst.append(list(map(int,input().split()))) # 좌표를 리스트 형태로 받아 coor_lst에 저장\n",
        "coor_lst.sort() # 리스트의 기본 정렬함수도 첫번째 인수를 오름차순으로 정렬 후 같은 값이 있는 경우는 두번째 인수를 통해 정리\n",
        "# coor_lst.sort(key=lambda x:(x[0], x[1])) 키를 이용한 정렬 방법도 있다.\n",
        "\n",
        "for i in coor_lst:\n",
        "  #print(*i,sep = ' ')\n",
        "  print(i[0], i[1]) "
      ],
      "execution_count": null,
      "outputs": []
    },
    {
      "cell_type": "markdown",
      "metadata": {
        "id": "aFUsGlBCvvnf"
      },
      "source": [
        "## 알게된 것\n",
        "- 정렬 방법에는 2가지\n",
        "1. 기본정렬 sort()\n",
        "2. key를 이용한 정렬\n",
        "\n",
        "- 리스트 출력할 떄 []없이 출력하는 방법\n",
        "1. 각 원소별로 출력 후 띄어쓰기\n",
        "2. 리스트 자체를 *연산자를 이용하여 압축을 풀고 대괄호 없이 출력"
      ]
    },
    {
      "cell_type": "code",
      "metadata": {
        "id": "ZA96awlJwI0u"
      },
      "source": [
        ""
      ],
      "execution_count": null,
      "outputs": []
    }
  ]
}