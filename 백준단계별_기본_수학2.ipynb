{
  "nbformat": 4,
  "nbformat_minor": 0,
  "metadata": {
    "colab": {
      "name": "백준단계별 - 기본 수학2.ipynb",
      "provenance": [],
      "authorship_tag": "ABX9TyNfcR5Kek+UHQcrA30VFLRa",
      "include_colab_link": true
    },
    "kernelspec": {
      "name": "python3",
      "display_name": "Python 3"
    },
    "language_info": {
      "name": "python"
    }
  },
  "cells": [
    {
      "cell_type": "markdown",
      "metadata": {
        "id": "view-in-github",
        "colab_type": "text"
      },
      "source": [
        "<a href=\"https://colab.research.google.com/github/wlghksx/Daily-BAEKJOON/blob/main/%EB%B0%B1%EC%A4%80%EB%8B%A8%EA%B3%84%EB%B3%84_%EA%B8%B0%EB%B3%B8_%EC%88%98%ED%95%992.ipynb\" target=\"_parent\"><img src=\"https://colab.research.google.com/assets/colab-badge.svg\" alt=\"Open In Colab\"/></a>"
      ]
    },
    {
      "cell_type": "markdown",
      "metadata": {
        "id": "LLQnXQMu2QSN"
      },
      "source": [
        "# 11653번 소인수분해"
      ]
    },
    {
      "cell_type": "code",
      "metadata": {
        "id": "vxlFhga1237k"
      },
      "source": [
        "'''\n",
        "def soinsu(n):\n",
        "  sosu_lst = []\n",
        "  sosu_lst.append(n)\n",
        "  num = sosu_lst[-1]\n",
        "  while True :\n",
        "    for i in range(2,num+1):\n",
        "      for j in range(2,num+1):\n",
        "        if i*j == num :\n",
        "          sosu_lst.remove(num)\n",
        "          sosu_lst.append(i,j)\n",
        "          break\n",
        "      break\n",
        "\n",
        "# 실패한 코드 1....\n",
        "\n",
        "        \n",
        "\n"
      ],
      "execution_count": null,
      "outputs": []
    },
    {
      "cell_type": "code",
      "metadata": {
        "colab": {
          "base_uri": "https://localhost:8080/"
        },
        "id": "T1S8XEBc6pe-",
        "outputId": "d0fc5f6f-6914-4a54-ac9d-447e15ff8397"
      },
      "source": [
        "'''\n",
        "n = int(input())\n",
        "\n",
        "def soinsu(n):\n",
        "  sosu_lst = []\n",
        "  sosu_lst.append(n)\n",
        "  before_sosu_lst=[]\n",
        "  for j in range(n) :\n",
        "    num = sosu_lst[-1]\n",
        "    print(before_sosu_lst)\n",
        "    for i in range(2,num+1):\n",
        "      if num%i == 0:\n",
        "        sosu_lst.remove(num)\n",
        "        sosu_lst.append(i)\n",
        "        sosu_lst.append(num//i)\n",
        "        break\n",
        "    if sosu_lst[-1]\n",
        "\n",
        "soinsu(n)\n",
        "\n",
        "# 실패한 코드 2...\n",
        "      "
      ],
      "execution_count": null,
      "outputs": [
        {
          "output_type": "stream",
          "text": [
            "72\n",
            "1\n",
            "[72]\n",
            "[]\n",
            "[2, 36]\n",
            "[2, 36]\n"
          ],
          "name": "stdout"
        }
      ]
    },
    {
      "cell_type": "code",
      "metadata": {
        "colab": {
          "base_uri": "https://localhost:8080/"
        },
        "id": "4sgUyuLP8iFa",
        "outputId": "1b174c00-4b18-45a8-892d-556f9a6765d0"
      },
      "source": [
        "n = int(input())\n",
        "i = 2\n",
        "while n>=2 :\n",
        "  if n%i == 0 :\n",
        "    print(i)\n",
        "    n = n/i\n",
        "  else :\n",
        "    i += 1"
      ],
      "execution_count": null,
      "outputs": [
        {
          "output_type": "stream",
          "text": [
            "72\n",
            "2\n",
            "2\n",
            "2\n",
            "3\n",
            "3\n"
          ],
          "name": "stdout"
        }
      ]
    },
    {
      "cell_type": "markdown",
      "metadata": {
        "id": "0rvG_srsXebJ"
      },
      "source": [
        "## 1929번 소수 구하기"
      ]
    },
    {
      "cell_type": "code",
      "metadata": {
        "colab": {
          "base_uri": "https://localhost:8080/"
        },
        "id": "00vkEDlQ4USa",
        "outputId": "f2890e4b-0f89-4bb2-a255-362ba8a40b03"
      },
      "source": [
        "'''\n",
        "M,N = map(int,input().split( ))\n",
        "\n",
        "num_lst = []\n",
        "\n",
        "for i in range(M,N+1):\n",
        "  for j in range(2,i):\n",
        "    if i%j == 0 :\n",
        "      break\n",
        "    elif j == i-1 :\n",
        "      print(i)\n",
        "\n",
        "시간초과로 인한 실패한 코드"
      ],
      "execution_count": 10,
      "outputs": [
        {
          "output_type": "stream",
          "text": [
            "3 16\n",
            "3\n",
            "5\n",
            "7\n",
            "11\n",
            "13\n"
          ],
          "name": "stdout"
        }
      ]
    },
    {
      "cell_type": "code",
      "metadata": {
        "id": "5iqEa4ak6bg-",
        "colab": {
          "base_uri": "https://localhost:8080/"
        },
        "outputId": "c5037062-304f-4243-a91e-b20995ed7e25"
      },
      "source": [
        "def sosu(n):\n",
        "  if n == 1 :\n",
        "    return False\n",
        "  else :\n",
        "    for i in range(2,int(n**0.5)+1):\n",
        "      if n%i == 0 :\n",
        "        return False\n",
        "    return True\n",
        "  \n",
        "M,N = map(int,input().split())\n",
        "\n",
        "for i in range(M,N+1):\n",
        "  if sosu(i):\n",
        "    print(i)"
      ],
      "execution_count": 12,
      "outputs": [
        {
          "output_type": "stream",
          "text": [
            "3 16\n",
            "3\n",
            "5\n",
            "7\n",
            "11\n",
            "13\n"
          ],
          "name": "stdout"
        }
      ]
    },
    {
      "cell_type": "code",
      "metadata": {
        "id": "T21Wd-FFDpJO"
      },
      "source": [
        ""
      ],
      "execution_count": null,
      "outputs": []
    }
  ]
}