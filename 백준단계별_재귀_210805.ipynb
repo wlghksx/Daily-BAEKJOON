{
  "nbformat": 4,
  "nbformat_minor": 0,
  "metadata": {
    "colab": {
      "name": "백준단계별 재귀 210805.ipynb",
      "provenance": [],
      "authorship_tag": "ABX9TyNFD1PX7HGqzcHOYwCWBqRe",
      "include_colab_link": true
    },
    "kernelspec": {
      "name": "python3",
      "display_name": "Python 3"
    },
    "language_info": {
      "name": "python"
    }
  },
  "cells": [
    {
      "cell_type": "markdown",
      "metadata": {
        "id": "view-in-github",
        "colab_type": "text"
      },
      "source": [
        "<a href=\"https://colab.research.google.com/github/wlghksx/Daily-BAEKJOON/blob/main/%EB%B0%B1%EC%A4%80%EB%8B%A8%EA%B3%84%EB%B3%84_%EC%9E%AC%EA%B7%80_210805.ipynb\" target=\"_parent\"><img src=\"https://colab.research.google.com/assets/colab-badge.svg\" alt=\"Open In Colab\"/></a>"
      ]
    },
    {
      "cell_type": "markdown",
      "metadata": {
        "id": "vDrwKfL6OM8o"
      },
      "source": [
        "# 11729번 하노이 탑 이동 순서"
      ]
    },
    {
      "cell_type": "code",
      "metadata": {
        "colab": {
          "base_uri": "https://localhost:8080/"
        },
        "id": "AAjzpVcIUUzU",
        "outputId": "da43f111-350e-472f-b4c0-44850ddf8efa"
      },
      "source": [
        "n = int(input())\n",
        "\n",
        "def hanoi(n, start, end) :\n",
        "  if n == 1 :\n",
        "    print(start,end)\n",
        "    return\n",
        "  \n",
        "  hanoi(n-1, start, 6-start-end) # 1단계\n",
        "  print(start,end) # 2단계\n",
        "  hanoi(n-1,6-start-end,end) # 3단계\n",
        "\n",
        "print(2**n-1)\n",
        "hanoi(n,1,3)"
      ],
      "execution_count": 1,
      "outputs": [
        {
          "output_type": "stream",
          "text": [
            "3\n",
            "7\n",
            "1 3\n",
            "1 2\n",
            "3 2\n",
            "1 3\n",
            "2 1\n",
            "2 3\n",
            "1 3\n"
          ],
          "name": "stdout"
        }
      ]
    },
    {
      "cell_type": "code",
      "metadata": {
        "id": "xgEcukRzZvLM"
      },
      "source": [
        ""
      ],
      "execution_count": null,
      "outputs": []
    }
  ]
}