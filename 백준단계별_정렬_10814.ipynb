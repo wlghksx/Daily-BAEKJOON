{
  "nbformat": 4,
  "nbformat_minor": 0,
  "metadata": {
    "colab": {
      "name": "백준단계별 - 정렬 10814.ipynb",
      "provenance": [],
      "collapsed_sections": [],
      "authorship_tag": "ABX9TyMle1F59WP/gkmOXOn8YOGM",
      "include_colab_link": true
    },
    "kernelspec": {
      "name": "python3",
      "display_name": "Python 3"
    },
    "language_info": {
      "name": "python"
    }
  },
  "cells": [
    {
      "cell_type": "markdown",
      "metadata": {
        "id": "view-in-github",
        "colab_type": "text"
      },
      "source": [
        "<a href=\"https://colab.research.google.com/github/wlghksx/Daily-BAEKJOON/blob/main/%EB%B0%B1%EC%A4%80%EB%8B%A8%EA%B3%84%EB%B3%84_%EC%A0%95%EB%A0%AC_10814.ipynb\" target=\"_parent\"><img src=\"https://colab.research.google.com/assets/colab-badge.svg\" alt=\"Open In Colab\"/></a>"
      ]
    },
    {
      "cell_type": "markdown",
      "metadata": {
        "id": "YyjcPsQucx67"
      },
      "source": [
        "# 10814번 나이순 정렬"
      ]
    },
    {
      "cell_type": "code",
      "metadata": {
        "colab": {
          "base_uri": "https://localhost:8080/"
        },
        "id": "zqcXla9VdCxH",
        "outputId": "754a5d7d-b357-4031-acb4-fdbaf4a4ae84"
      },
      "source": [
        "import sys\n",
        "\n",
        "n = int(input())\n",
        "mem_lst = []\n",
        "count = 0\n",
        "\n",
        "for i in range(n):\n",
        "  count +=1\n",
        "  member = list(sys.stdin.readline().split())\n",
        "  member.append(count)\n",
        "  mem_lst.append(member) \n",
        "\n",
        "mem_lst.sort(key=lambda x :(int(x[0]),int(x[2])))\n",
        "\n",
        "for i in mem_lst:\n",
        "  print(int(i[0]),i[1])"
      ],
      "execution_count": 11,
      "outputs": [
        {
          "output_type": "stream",
          "text": [
            "3\n",
            "21 Jun\n",
            "21 Do\n",
            "20 Sun\n",
            "20 Sun\n",
            "21 Jun\n",
            "21 Do\n"
          ],
          "name": "stdout"
        }
      ]
    },
    {
      "cell_type": "code",
      "metadata": {
        "id": "G0TKdhD4dvjM"
      },
      "source": [
        "# 두번째로 푼 정답 코드\n",
        "import sys\n",
        "\n",
        "n = int(input())\n",
        "\n",
        "mem = []\n",
        "\n",
        "for _ in range(n):\n",
        "  mem.append(list(sys.stdin.readline().split()))\n",
        "\n",
        "mem.sort(key=lambda x : x[0])\n",
        "\n",
        "for i in mem :\n",
        "  print(i[0], i[1])"
      ],
      "execution_count": null,
      "outputs": []
    },
    {
      "cell_type": "markdown",
      "metadata": {
        "id": "xZrIc5uwhI1l"
      },
      "source": [
        "- 알게된 것\n",
        "1. 처음에는 sort 함수에 int를 까먹어서 결국 리스트에 저장을 split()만 한 형태 그대로 했으므로 그것을 key로 사용하면 문자열로 인식하여 구분하게 된다.\n",
        "2. 또한 count를 세주지 않아도 기본적으로 가입한 순으로 리스트에 저장이 되고, 나이가 적은데 늦게 가입한 사람이 앞으로 당겨져 오는 것이므로 sort를 나이순으로만 해도 된다.\n",
        " * 즉 파이썬은 stable 정렬을 하기 때문에 (1,2,3x,4,5,6,3y)는 정렬한다면 (1,2,3x,3y,4,5,6) 순으로 정렬되게 된다. 따라서 나이순으로만 정렬해도 성공이 되는 것이다."
      ]
    }
  ]
}