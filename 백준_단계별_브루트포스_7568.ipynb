{
  "nbformat": 4,
  "nbformat_minor": 0,
  "metadata": {
    "colab": {
      "name": "백준 단계별 - 브루트포스 7568.ipynb ",
      "provenance": [],
      "collapsed_sections": [],
      "authorship_tag": "ABX9TyMrgP886A2RXBEGFfkNvBqh",
      "include_colab_link": true
    },
    "kernelspec": {
      "name": "python3",
      "display_name": "Python 3"
    },
    "language_info": {
      "name": "python"
    }
  },
  "cells": [
    {
      "cell_type": "markdown",
      "metadata": {
        "id": "view-in-github",
        "colab_type": "text"
      },
      "source": [
        "<a href=\"https://colab.research.google.com/github/wlghksx/Daily-BAEKJOON/blob/main/%EB%B0%B1%EC%A4%80_%EB%8B%A8%EA%B3%84%EB%B3%84_%EB%B8%8C%EB%A3%A8%ED%8A%B8%ED%8F%AC%EC%8A%A4_7568.ipynb\" target=\"_parent\"><img src=\"https://colab.research.google.com/assets/colab-badge.svg\" alt=\"Open In Colab\"/></a>"
      ]
    },
    {
      "cell_type": "markdown",
      "metadata": {
        "id": "zeu53papiaYQ"
      },
      "source": [
        "# 7568번 덩치"
      ]
    },
    {
      "cell_type": "code",
      "metadata": {
        "id": "Kb2btViYk9GF"
      },
      "source": [
        "n = int(input())\n",
        "\n",
        "people= []\n",
        "rank_lst = []\n",
        "for _ in range(n) :\n",
        "  wei,hei = map(int,input().split())\n",
        "  people.append((wei,hei))\n",
        "  \n",
        "for a in people :\n",
        "  rank = 1\n",
        "  for b in people :\n",
        "    if (a[0]!=b[0]) and (a[1]!=b[1]) :\n",
        "      if (a[0]<b[0]) and (a[1]<b[1]) :\n",
        "        rank+=1\n",
        "  rank_lst.append(rank)\n",
        "\n",
        "for i in rank_lst:\n",
        "  print(i,end=\" \")"
      ],
      "execution_count": null,
      "outputs": []
    }
  ]
}