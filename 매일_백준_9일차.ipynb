{
  "nbformat": 4,
  "nbformat_minor": 0,
  "metadata": {
    "colab": {
      "name": "매일 백준_9일차.ipynb",
      "provenance": [],
      "collapsed_sections": [],
      "authorship_tag": "ABX9TyMJt34SsWqf3YlOtsnnx6CZ"
    },
    "kernelspec": {
      "name": "python3",
      "display_name": "Python 3"
    },
    "language_info": {
      "name": "python"
    }
  },
  "cells": [
    {
      "cell_type": "markdown",
      "metadata": {
        "id": "p41Cyx0ftx5s"
      },
      "source": [
        "# 11654번 야스키 코드"
      ]
    },
    {
      "cell_type": "code",
      "metadata": {
        "colab": {
          "base_uri": "https://localhost:8080/"
        },
        "id": "lI-ZQcazuBkU",
        "outputId": "160d74e2-3be4-4317-e1e8-3b99530dd71c"
      },
      "source": [
        "a = input()\n",
        "print(ord(a))"
      ],
      "execution_count": 2,
      "outputs": [
        {
          "output_type": "stream",
          "text": [
            "A\n",
            "65\n"
          ],
          "name": "stdout"
        }
      ]
    },
    {
      "cell_type": "markdown",
      "metadata": {
        "id": "bOT8fCGQuFaV"
      },
      "source": [
        "# 11720번 숫자의 합"
      ]
    },
    {
      "cell_type": "code",
      "metadata": {
        "colab": {
          "base_uri": "https://localhost:8080/"
        },
        "id": "A2wHucxSubqq",
        "outputId": "9a6fdd80-21e2-42b4-e942-ad4e6efc17df"
      },
      "source": [
        "num = int(input())\n",
        "a = input()\n",
        "sum = 0\n",
        "\n",
        "for i in range(len(a)) :\n",
        "  sum += int(a[i])\n",
        "\n",
        "print(sum)"
      ],
      "execution_count": 6,
      "outputs": [
        {
          "output_type": "stream",
          "text": [
            "5\n",
            "54321\n",
            "15\n"
          ],
          "name": "stdout"
        }
      ]
    },
    {
      "cell_type": "markdown",
      "metadata": {
        "id": "EXIV3mS3ux3K"
      },
      "source": [
        "# 10809번 알파벳 찾기"
      ]
    },
    {
      "cell_type": "code",
      "metadata": {
        "id": "h0Xj503gxC3R"
      },
      "source": [
        "word = input()\n",
        "alphabet_index = []\n",
        "for i in range(97,123):\n",
        "  alphabet_index.append(-1)\n",
        "\n",
        "for i in range(0,len(word)):\n",
        "  for j in range(97,123):\n",
        "    if ord(word[i]) == j :\n",
        "      if alphabet_index[j-97] == -1 :\n",
        "        alphabet_index[j-97] = i\n",
        "      else :\n",
        "        pass\n",
        "\n",
        "for i in alphabet_index :\n",
        "  print(i,end = ' ')"
      ],
      "execution_count": null,
      "outputs": []
    },
    {
      "cell_type": "markdown",
      "metadata": {
        "id": "6RQ0Te7M6DIJ"
      },
      "source": [
        "Find 함수 사용 가능!! "
      ]
    },
    {
      "cell_type": "code",
      "metadata": {
        "colab": {
          "base_uri": "https://localhost:8080/"
        },
        "id": "T_MXSGpH6F-s",
        "outputId": "a6b809e4-ab74-4731-b62a-30e49956c493"
      },
      "source": [
        "word = input()\n",
        "alphabet_index = []\n",
        "for i in range(97,123) :\n",
        "  alphabet_index.append(i)\n",
        "\n",
        "for i in alphabet_index:\n",
        "  print(word.find(chr(i)), end = ' ')\n"
      ],
      "execution_count": 36,
      "outputs": [
        {
          "output_type": "stream",
          "text": [
            "baekjoon\n",
            "1 0 -1 -1 2 -1 -1 -1 -1 4 3 -1 -1 7 5 -1 -1 -1 -1 -1 -1 -1 -1 -1 -1 -1 "
          ],
          "name": "stdout"
        }
      ]
    },
    {
      "cell_type": "code",
      "metadata": {
        "id": "l766hbzA66Eu"
      },
      "source": [
        ""
      ],
      "execution_count": null,
      "outputs": []
    }
  ]
}