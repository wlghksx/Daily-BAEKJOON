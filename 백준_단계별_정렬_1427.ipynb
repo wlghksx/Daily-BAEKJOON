{
  "nbformat": 4,
  "nbformat_minor": 0,
  "metadata": {
    "colab": {
      "name": "백준 단계별 - 정렬 1427.ipynb",
      "provenance": [],
      "authorship_tag": "ABX9TyORBV5wER2gCjiTKqIHQq58",
      "include_colab_link": true
    },
    "kernelspec": {
      "name": "python3",
      "display_name": "Python 3"
    },
    "language_info": {
      "name": "python"
    }
  },
  "cells": [
    {
      "cell_type": "markdown",
      "metadata": {
        "id": "view-in-github",
        "colab_type": "text"
      },
      "source": [
        "<a href=\"https://colab.research.google.com/github/wlghksx/Daily-BAEKJOON/blob/main/%EB%B0%B1%EC%A4%80_%EB%8B%A8%EA%B3%84%EB%B3%84_%EC%A0%95%EB%A0%AC_1427.ipynb\" target=\"_parent\"><img src=\"https://colab.research.google.com/assets/colab-badge.svg\" alt=\"Open In Colab\"/></a>"
      ]
    },
    {
      "cell_type": "markdown",
      "metadata": {
        "id": "L6vFidnJw_E8"
      },
      "source": [
        "# 1427번 소트인사이드"
      ]
    },
    {
      "cell_type": "code",
      "metadata": {
        "colab": {
          "base_uri": "https://localhost:8080/"
        },
        "id": "VLrvjHM_xaQ7",
        "outputId": "e7be58d7-4a8f-475e-9440-3eff86cf3a54"
      },
      "source": [
        "import math\n",
        "\n",
        "n = int(input())\n",
        "\n",
        "str_lst = []\n",
        "for i in str(n) : \n",
        "  str_lst.append(i)\n",
        "\n",
        "num_lst = []\n",
        "for i in str_lst :\n",
        "  num_lst.append(int(i))\n",
        "\n",
        "num_lst.sort(reverse=True)\n",
        "\n",
        "num = 0\n",
        "\n",
        "for i in range(1,len(num_lst)) :\n",
        "  num += num_lst[len(num_lst)-1-i]*math.pow(10,i)\n",
        "num += num_lst[-1]\n",
        "\n",
        "print(int(num))"
      ],
      "execution_count": 5,
      "outputs": [
        {
          "output_type": "stream",
          "text": [
            "2143\n",
            "4321\n"
          ],
          "name": "stdout"
        }
      ]
    },
    {
      "cell_type": "markdown",
      "metadata": {
        "id": "Tyc8uV3JzJCt"
      },
      "source": [
        "## 성공을 하긴했는데 문제에 비해 코드가 길다고 생각하여 다른 방법을 찾아보았다."
      ]
    },
    {
      "cell_type": "code",
      "metadata": {
        "colab": {
          "base_uri": "https://localhost:8080/"
        },
        "id": "XgRUQCF1zxf6",
        "outputId": "75e9dc77-d48b-43c4-f72c-28ff4a8ac2f0"
      },
      "source": [
        "n = int(input())\n",
        "A=[]\n",
        "A= list(map(int,str(n)))\n",
        "A.sort(reverse =True) \n",
        "\n",
        "for i in A :\n",
        "  print(i, end='')"
      ],
      "execution_count": 7,
      "outputs": [
        {
          "output_type": "stream",
          "text": [
            "2143\n",
            "4321"
          ],
          "name": "stdout"
        }
      ]
    },
    {
      "cell_type": "markdown",
      "metadata": {
        "id": "Z4JdLRxI0CWs"
      },
      "source": [
        "## 차별점\n",
        "- 우선 map을 통해 수를 형태소별로 구분지어 리스트로 만들 수 있었다.\n",
        "- 그리고 실제수를 만들어주지 않고도, end를 통해 이어 출력해줌으로써 같은 형식의 수를 만들어 줄 수 있었다.\n"
      ]
    },
    {
      "cell_type": "code",
      "metadata": {
        "id": "we0z5HPI0aVf"
      },
      "source": [
        ""
      ],
      "execution_count": null,
      "outputs": []
    }
  ]
}