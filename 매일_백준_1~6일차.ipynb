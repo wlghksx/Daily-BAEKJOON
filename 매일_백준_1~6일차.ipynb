{
  "nbformat": 4,
  "nbformat_minor": 0,
  "metadata": {
    "colab": {
      "name": "매일 백준_1~6일차.ipynb",
      "provenance": [],
      "collapsed_sections": [],
      "authorship_tag": "ABX9TyPjonR9QRynMtg06kk5ZU30",
      "include_colab_link": true
    },
    "kernelspec": {
      "name": "python3",
      "display_name": "Python 3"
    },
    "language_info": {
      "name": "python"
    }
  },
  "cells": [
    {
      "cell_type": "markdown",
      "metadata": {
        "id": "view-in-github",
        "colab_type": "text"
      },
      "source": [
        "<a href=\"https://colab.research.google.com/github/wlghksx/Daily-BAEKJOON/blob/main/%EB%A7%A4%EC%9D%BC_%EB%B0%B1%EC%A4%80_1~6%EC%9D%BC%EC%B0%A8.ipynb\" target=\"_parent\"><img src=\"https://colab.research.google.com/assets/colab-badge.svg\" alt=\"Open In Colab\"/></a>"
      ]
    },
    {
      "cell_type": "markdown",
      "metadata": {
        "id": "lHX6VJCOg9ge"
      },
      "source": [
        "7일차부터 Git Hub로 옮김에 따라 1~6일 차는 다른 블로그에서 작성."
      ]
    },
    {
      "cell_type": "markdown",
      "metadata": {
        "id": "_SgYd2wihOpn"
      },
      "source": [
        "# 1일차\n",
        "\n",
        "https://recordingjihwan.tistory.com/12?category=1035798"
      ]
    },
    {
      "cell_type": "markdown",
      "metadata": {
        "id": "CTI6DxfphT8u"
      },
      "source": [
        "# 2일차\n",
        "https://recordingjihwan.tistory.com/13?category=1035798"
      ]
    },
    {
      "cell_type": "markdown",
      "metadata": {
        "id": "nn6Mr6ythX-n"
      },
      "source": [
        "# 3일차\n",
        "https://recordingjihwan.tistory.com/14?category=1035798"
      ]
    },
    {
      "cell_type": "markdown",
      "metadata": {
        "id": "3WoApdyHheFp"
      },
      "source": [
        "# 4일차\n",
        "https://recordingjihwan.tistory.com/15?category=1035798"
      ]
    },
    {
      "cell_type": "markdown",
      "metadata": {
        "id": "ePnHa9YPhiKS"
      },
      "source": [
        "# 5일차\n",
        "https://recordingjihwan.tistory.com/16?category=1035798"
      ]
    },
    {
      "cell_type": "markdown",
      "metadata": {
        "id": "Mm3dxey1hlBp"
      },
      "source": [
        "# 6일차\n",
        "https://recordingjihwan.tistory.com/17?category=1035798"
      ]
    }
  ]
}