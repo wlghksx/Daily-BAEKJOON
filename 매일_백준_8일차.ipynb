{
  "nbformat": 4,
  "nbformat_minor": 0,
  "metadata": {
    "colab": {
      "name": "매일 백준_8일차.ipynb",
      "provenance": [],
      "collapsed_sections": [],
      "authorship_tag": "ABX9TyN5niJfKeaDb+bslCt0BKIY"
    },
    "kernelspec": {
      "name": "python3",
      "display_name": "Python 3"
    },
    "language_info": {
      "name": "python"
    }
  },
  "cells": [
    {
      "cell_type": "markdown",
      "metadata": {
        "id": "WtpWkK45_LIe"
      },
      "source": [
        "# 15596번 정수 N개의 합\n"
      ]
    },
    {
      "cell_type": "code",
      "metadata": {
        "id": "B3oTotiq-KxB"
      },
      "source": [
        "def solve(a) : \n",
        "  total = 0\n",
        "  for i in range(len(a)) :\n",
        "    total += a[i]\n",
        "  return total\n"
      ],
      "execution_count": 4,
      "outputs": []
    },
    {
      "cell_type": "markdown",
      "metadata": {
        "id": "476mtwEJ-Gd1"
      },
      "source": [
        "# 4673번 셀프 넘버"
      ]
    },
    {
      "cell_type": "code",
      "metadata": {
        "id": "ll9gPxuqAQEK"
      },
      "source": [
        "lst = list(range(1,10001))\n",
        "def d(n) :\n",
        "  n_2 = n\n",
        "  for i in range(len(str(n))):\n",
        "    n_2 += int(str(n)[i])\n",
        "  try : lst.remove(n_2)\n",
        "  except : pass\n",
        "\n",
        "for i in range(1, 10001) :\n",
        "  d(i)\n",
        "for i in lst :\n",
        "  print(i)"
      ],
      "execution_count": null,
      "outputs": []
    },
    {
      "cell_type": "markdown",
      "metadata": {
        "id": "QQUJSHyECmlg"
      },
      "source": [
        "# 1065번 한수"
      ]
    },
    {
      "cell_type": "code",
      "metadata": {
        "colab": {
          "base_uri": "https://localhost:8080/"
        },
        "id": "9cVqeglLIA6l",
        "outputId": "63cd4ca8-8d7f-4af5-e674-432bb5263fa7"
      },
      "source": [
        "def hansu(num) :\n",
        "    hansu_cnt = 0\n",
        "    for i in range(1, num+1):\n",
        "        num_list = list(map(int,str(i)))\n",
        "        if i < 100:\n",
        "            hansu_cnt += 1  \n",
        "        elif num_list[0]-num_list[1] == num_list[1]-num_list[2]:\n",
        "            hansu_cnt += 1  \n",
        "    return hansu_cnt\n",
        "\n",
        "num = int(input())\n",
        "print(hansu(num))"
      ],
      "execution_count": 18,
      "outputs": [
        {
          "output_type": "stream",
          "text": [
            "110\n",
            "99\n"
          ],
          "name": "stdout"
        }
      ]
    }
  ]
}