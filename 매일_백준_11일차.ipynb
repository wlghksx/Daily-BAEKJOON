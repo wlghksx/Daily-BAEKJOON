{
  "nbformat": 4,
  "nbformat_minor": 0,
  "metadata": {
    "colab": {
      "name": "매일 백준_11일차.ipynb",
      "provenance": [],
      "collapsed_sections": [],
      "authorship_tag": "ABX9TyMkOJOmpF0zEcqmsJnOPQas"
    },
    "kernelspec": {
      "name": "python3",
      "display_name": "Python 3"
    },
    "language_info": {
      "name": "python"
    }
  },
  "cells": [
    {
      "cell_type": "markdown",
      "metadata": {
        "id": "gd4XVl_LhRyE"
      },
      "source": [
        "# 1152번 단어의 개수"
      ]
    },
    {
      "cell_type": "code",
      "metadata": {
        "id": "rllLrIdOheQy",
        "colab": {
          "base_uri": "https://localhost:8080/"
        },
        "outputId": "54cd026a-fc7e-4392-fc3d-a45cea0c6cda"
      },
      "source": [
        "s = input()\n",
        "if s[0] == ' ' and s[-1] == ' ' :\n",
        "  print(s.count(' ')-1)\n",
        "elif s[0] == ' ' or s[-1] == ' ' : \n",
        "  print(s.count(' '))\n",
        "else : \n",
        "  print(s.count(' ')+1)"
      ],
      "execution_count": 6,
      "outputs": [
        {
          "output_type": "stream",
          "text": [
            "Teullinika Teullyeotzi \n",
            "2\n"
          ],
          "name": "stdout"
        }
      ]
    },
    {
      "cell_type": "markdown",
      "metadata": {
        "id": "3VML51Qwt12e"
      },
      "source": [
        "# 더 짧은 방법으로 개선.\n"
      ]
    },
    {
      "cell_type": "code",
      "metadata": {
        "colab": {
          "base_uri": "https://localhost:8080/"
        },
        "id": "fd61p_2ivLbD",
        "outputId": "fdbd741f-1a10-4524-a048-a901fe64534b"
      },
      "source": [
        "n = input().split()\n",
        "print(len(n))"
      ],
      "execution_count": 7,
      "outputs": [
        {
          "output_type": "stream",
          "text": [
            "The Curious Case of Benjamin Button\n",
            "6\n"
          ],
          "name": "stdout"
        }
      ]
    },
    {
      "cell_type": "markdown",
      "metadata": {
        "id": "pk8vU9nrvPcU"
      },
      "source": [
        "# 2908번 상수"
      ]
    },
    {
      "cell_type": "code",
      "metadata": {
        "colab": {
          "base_uri": "https://localhost:8080/"
        },
        "id": "1bmZiV7AvfSa",
        "outputId": "d7efccd9-a5ea-489b-dde6-6ce4aa49a774"
      },
      "source": [
        "a,b = map(int,input().split())\n",
        "def change(n) :\n",
        "  first = str(n)[0]\n",
        "  last = str(n)[2]\n",
        "  n = int(first) + int(str(n)[1]) * 10 + int(last) * 100\n",
        "  return n\n",
        "\n",
        "a_c = change(a)\n",
        "b_c = change(b)\n",
        "\n",
        "lst = [a_c,b_c]\n",
        "\n",
        "print(max(lst))"
      ],
      "execution_count": 13,
      "outputs": [
        {
          "output_type": "stream",
          "text": [
            "734 893\n",
            "437\n"
          ],
          "name": "stdout"
        }
      ]
    },
    {
      "cell_type": "code",
      "metadata": {
        "colab": {
          "base_uri": "https://localhost:8080/"
        },
        "id": "Rn3exlfBwGRq",
        "outputId": "7dba57c1-8a3f-423d-8336-85085d77ea31"
      },
      "source": [
        "a, b = input().split()\n",
        "\n",
        "a = int(a[::-1]) # 역순으로 읽기\n",
        "b = int(b[::-1]) \n",
        "\n",
        "if a > b : \n",
        "    print(a)\n",
        "else :\n",
        "    print(b)"
      ],
      "execution_count": 14,
      "outputs": [
        {
          "output_type": "stream",
          "text": [
            "734 893\n",
            "437\n"
          ],
          "name": "stdout"
        }
      ]
    },
    {
      "cell_type": "markdown",
      "metadata": {
        "id": "Rdn7KBqeyERu"
      },
      "source": [
        "# 5622번 다이얼"
      ]
    },
    {
      "cell_type": "code",
      "metadata": {
        "id": "65TPjgOQycJl"
      },
      "source": [
        "s = input()\n",
        "dial = ['ABC','DEF','GHI','JKL','MNO','PQRS','TUV','WXYZ']\n",
        "time = 0\n",
        "\n",
        "for i in s :\n",
        "  for j in dial :\n",
        "    if i in j :\n",
        "      time += (dial.index(j)+3)\n",
        "print(time)"
      ],
      "execution_count": null,
      "outputs": []
    },
    {
      "cell_type": "markdown",
      "metadata": {
        "id": "gF5WYBN-0TZo"
      },
      "source": [
        "# 2941번 크로아티아 알파벳"
      ]
    },
    {
      "cell_type": "code",
      "metadata": {
        "id": "Db4M2YzU0n4U"
      },
      "source": [
        "cro_alpha = ['c=','c-','dz=','d-','lj','nj','s=','z=']\n",
        "s = input()\n",
        "for i in cro_alpha :\n",
        "  s = s.replace(i,'*') # replace는 원변수를 파괴하지 않는 비파괴적 함수이다. 주의\n",
        "print(len(s))\n"
      ],
      "execution_count": null,
      "outputs": []
    },
    {
      "cell_type": "markdown",
      "metadata": {
        "id": "k4QN-baf1v7d"
      },
      "source": [
        "# 1316번 그룹 단어 체커"
      ]
    },
    {
      "cell_type": "code",
      "metadata": {
        "colab": {
          "base_uri": "https://localhost:8080/"
        },
        "id": "SmCfxyXI5dIA",
        "outputId": "effd2346-9295-4e95-aaa7-d20ec9304e13"
      },
      "source": [
        "n = int(input())\n",
        "result = n\n",
        "for i in range(n):\n",
        "  word = input()\n",
        "  for j in range(len(word)-1):\n",
        "    if word[j] == word[j+1] :\n",
        "      pass\n",
        "    elif word[j] in word[j+1:] :\n",
        "      result -= 1\n",
        "      break\n",
        "print(result)"
      ],
      "execution_count": 27,
      "outputs": [
        {
          "output_type": "stream",
          "text": [
            "3\n",
            "happy\n",
            "new\n",
            "year\n",
            "3\n"
          ],
          "name": "stdout"
        }
      ]
    }
  ]
}