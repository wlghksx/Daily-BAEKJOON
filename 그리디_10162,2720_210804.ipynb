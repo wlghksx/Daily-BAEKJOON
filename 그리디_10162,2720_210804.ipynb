{
  "nbformat": 4,
  "nbformat_minor": 0,
  "metadata": {
    "colab": {
      "name": "그리디 10162,2720_210804.ipynb",
      "provenance": [],
      "collapsed_sections": [],
      "authorship_tag": "ABX9TyOiJIwbYgn+P7ip76X9SP7V",
      "include_colab_link": true
    },
    "kernelspec": {
      "name": "python3",
      "display_name": "Python 3"
    },
    "language_info": {
      "name": "python"
    }
  },
  "cells": [
    {
      "cell_type": "markdown",
      "metadata": {
        "id": "view-in-github",
        "colab_type": "text"
      },
      "source": [
        "<a href=\"https://colab.research.google.com/github/wlghksx/Daily-BAEKJOON/blob/main/%EA%B7%B8%EB%A6%AC%EB%94%94_10162%2C2720_210804.ipynb\" target=\"_parent\"><img src=\"https://colab.research.google.com/assets/colab-badge.svg\" alt=\"Open In Colab\"/></a>"
      ]
    },
    {
      "cell_type": "markdown",
      "metadata": {
        "id": "mWxglcnSscwb"
      },
      "source": [
        "# 10162번 전자레인지\n"
      ]
    },
    {
      "cell_type": "code",
      "metadata": {
        "colab": {
          "base_uri": "https://localhost:8080/"
        },
        "id": "jFxmNlfftFFK",
        "outputId": "bc3eb239-ce16-4730-cbf6-fc17b3e4827e"
      },
      "source": [
        "T = int(input())\n",
        "A_count = 0\n",
        "B_count = 0\n",
        "C_count = 0\n",
        "\n",
        "if T%10 != 0:\n",
        "  pass\n",
        "\n",
        "elif T%300 == 0 :\n",
        "  A_count += T//300\n",
        "elif T%300 !=0:\n",
        "  A_count += T//300\n",
        "  if (T%300)%60 == 0 :\n",
        "    B_count += (T%300)//60\n",
        "  elif (T%300)%60 != 0 :\n",
        "    B_count += (T%300)//60\n",
        "    C_count += ((T%300)%60)//10\n",
        "\n",
        "if A_count == B_count == C_count == 0 :\n",
        "  print(-1)\n",
        "else :\n",
        "  print(A_count,B_count,C_count)\n",
        "\n",
        "# 이보다 더 줄인다면 아래와 같이 가능할 듯 하다."
      ],
      "execution_count": 10,
      "outputs": [
        {
          "output_type": "stream",
          "text": [
            "100005\n",
            "-1\n"
          ],
          "name": "stdout"
        }
      ]
    },
    {
      "cell_type": "code",
      "metadata": {
        "id": "eZpkCVttvZTu"
      },
      "source": [
        "T = int(input())\n",
        "\n",
        "if T % 10 != 0:\n",
        "    print(-1)\n",
        "else:\n",
        "    A = B = C = 0\n",
        "    A = T // 300\n",
        "    B = (T % 300) // 60\n",
        "    C = (T % 300) % 60 // 10\n",
        "    print(A, B, C)"
      ],
      "execution_count": null,
      "outputs": []
    },
    {
      "cell_type": "markdown",
      "metadata": {
        "id": "WyYiAjPnw5Qf"
      },
      "source": [
        "# 2720 세탁소 사장 동혁"
      ]
    },
    {
      "cell_type": "code",
      "metadata": {
        "colab": {
          "base_uri": "https://localhost:8080/"
        },
        "id": "sQ6jXBFow8ca",
        "outputId": "fc7cd749-45b1-412b-9edf-01779fbce969"
      },
      "source": [
        "T = int(input())\n",
        "\n",
        "\n",
        "for i in range(T):\n",
        "  n = int(input())\n",
        "  A_count = 0\n",
        "  B_count = 0\n",
        "  C_count = 0\n",
        "  D_count = 0\n",
        "  \n",
        "  A_count += n//25\n",
        "  B_count += (n%25)//10\n",
        "  C_count += ((n%25)%10)//5\n",
        "  D_count += ((n%25)%10)%5\n",
        "  print(A_count, B_count, C_count, D_count)"
      ],
      "execution_count": 13,
      "outputs": [
        {
          "output_type": "stream",
          "text": [
            "3\n",
            "124\n",
            "4 2 0 4\n",
            "25\n",
            "1 0 0 0\n",
            "194\n",
            "7 1 1 4\n"
          ],
          "name": "stdout"
        }
      ]
    },
    {
      "cell_type": "code",
      "metadata": {
        "id": "il0tGgHJywrl"
      },
      "source": [
        ""
      ],
      "execution_count": null,
      "outputs": []
    }
  ]
}