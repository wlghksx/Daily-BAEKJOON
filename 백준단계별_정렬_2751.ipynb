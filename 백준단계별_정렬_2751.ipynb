{
  "nbformat": 4,
  "nbformat_minor": 0,
  "metadata": {
    "colab": {
      "name": "백준단계별 - 정렬 2751.ipynb",
      "provenance": [],
      "authorship_tag": "ABX9TyOdugbSYMJCQBWVxH8z35hT",
      "include_colab_link": true
    },
    "kernelspec": {
      "name": "python3",
      "display_name": "Python 3"
    },
    "language_info": {
      "name": "python"
    }
  },
  "cells": [
    {
      "cell_type": "markdown",
      "metadata": {
        "id": "view-in-github",
        "colab_type": "text"
      },
      "source": [
        "<a href=\"https://colab.research.google.com/github/wlghksx/Daily-BAEKJOON/blob/main/%EB%B0%B1%EC%A4%80%EB%8B%A8%EA%B3%84%EB%B3%84_%EC%A0%95%EB%A0%AC_2751.ipynb\" target=\"_parent\"><img src=\"https://colab.research.google.com/assets/colab-badge.svg\" alt=\"Open In Colab\"/></a>"
      ]
    },
    {
      "cell_type": "markdown",
      "metadata": {
        "id": "Q9ruXtSYZMuE"
      },
      "source": [
        "# 2751번 수 정렬하기 2"
      ]
    },
    {
      "cell_type": "code",
      "metadata": {
        "id": "XyOZvOvwZVuA",
        "colab": {
          "base_uri": "https://localhost:8080/"
        },
        "outputId": "7abdbab5-b7bf-4b12-d9cf-1cbc4ca1c01b"
      },
      "source": [
        "n = int(input())\n",
        "num_lst = []\n",
        "for i in range(n) :\n",
        "  n1 = int(input())\n",
        "  num_lst.append(n1)\n",
        "\n",
        "num_lst.sort()\n",
        "for i in num_lst:\n",
        "  print(i)"
      ],
      "execution_count": null,
      "outputs": [
        {
          "output_type": "stream",
          "text": [
            "5\n",
            "5\n",
            "4\n",
            "3\n",
            "2\n",
            "1\n",
            "1\n",
            "2\n",
            "3\n",
            "4\n",
            "5\n"
          ],
          "name": "stdout"
        }
      ]
    },
    {
      "cell_type": "code",
      "metadata": {
        "id": "MO6HmpR2ZiFN"
      },
      "source": [
        ""
      ],
      "execution_count": null,
      "outputs": []
    }
  ]
}