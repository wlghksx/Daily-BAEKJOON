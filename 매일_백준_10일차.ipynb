{
  "nbformat": 4,
  "nbformat_minor": 0,
  "metadata": {
    "colab": {
      "name": "매일 백준_10일차.ipynb",
      "provenance": [],
      "collapsed_sections": [],
      "authorship_tag": "ABX9TyMBsXhbY23d3ObNfGKIkxzw"
    },
    "kernelspec": {
      "name": "python3",
      "display_name": "Python 3"
    },
    "language_info": {
      "name": "python"
    }
  },
  "cells": [
    {
      "cell_type": "markdown",
      "metadata": {
        "id": "sl6r3knZpHkx"
      },
      "source": [
        "# 2675번 문자열 반복"
      ]
    },
    {
      "cell_type": "code",
      "metadata": {
        "colab": {
          "base_uri": "https://localhost:8080/"
        },
        "id": "Mxe4jRJ0plFE",
        "outputId": "babd33ed-f2d7-4f51-86e5-0a6ec7ad3580"
      },
      "source": [
        "n = int(input())\n",
        "\n",
        "for i in range(n) :\n",
        "  t,s = input().split()\n",
        "  text = ''\n",
        "  for j in s:\n",
        "    text += int(t) * j\n",
        "  print(text)"
      ],
      "execution_count": 3,
      "outputs": [
        {
          "output_type": "stream",
          "text": [
            "2\n",
            "3 ABC\n",
            "AAABBBCCC\n",
            "5 /HTP\n",
            "/////HHHHHTTTTTPPPPP\n"
          ],
          "name": "stdout"
        }
      ]
    },
    {
      "cell_type": "markdown",
      "metadata": {
        "id": "1QbR7ox-rRc8"
      },
      "source": [
        "# 1157번 단어 공부 "
      ]
    },
    {
      "cell_type": "code",
      "metadata": {
        "colab": {
          "base_uri": "https://localhost:8080/"
        },
        "id": "5YM5ii7vt76u",
        "outputId": "604900a7-2003-4864-f77c-83b5a0b4914f"
      },
      "source": [
        "s = input()\n",
        "s= s.lower()\n",
        "alp = []\n",
        "for i in range(97,123) :\n",
        "  alp.append(0)\n",
        "\n",
        "for i in s :\n",
        "  for j in range(97,123):\n",
        "    if ord(i) == j :\n",
        "      alp[j-97] += 1\n",
        "\n",
        "m = max(alp)\n",
        "max_index = []\n",
        "\n",
        "for i in range(len(alp)) :\n",
        "  if alp[i] == m :\n",
        "    max_index.append(i)\n",
        "if len(max_index) == 1 :\n",
        "  print((chr(max_index[0]+97)).upper())\n",
        "else :\n",
        "  print('?')\n",
        "\n"
      ],
      "execution_count": 7,
      "outputs": [
        {
          "output_type": "stream",
          "text": [
            "baaa\n",
            "A\n"
          ],
          "name": "stdout"
        }
      ]
    },
    {
      "cell_type": "markdown",
      "metadata": {
        "id": "6q55zBL8ztBG"
      },
      "source": [
        "# 아직 코드가 부족한 부분이 많다. 다른 사람의 코드를 참고해보니 set을 사용했다. 이를 참고하여 코드를 develope 해보자"
      ]
    },
    {
      "cell_type": "code",
      "metadata": {
        "id": "taYDxNtmz2CT"
      },
      "source": [
        ""
      ],
      "execution_count": null,
      "outputs": []
    }
  ]
}