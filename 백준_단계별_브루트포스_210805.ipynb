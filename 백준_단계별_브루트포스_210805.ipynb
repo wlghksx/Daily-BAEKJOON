{
  "nbformat": 4,
  "nbformat_minor": 0,
  "metadata": {
    "colab": {
      "name": "백준 단계별 - 브루트포스 210805.ipynb",
      "provenance": [],
      "collapsed_sections": [],
      "authorship_tag": "ABX9TyPFOuK9ZGq6bNWiUYwYur+w",
      "include_colab_link": true
    },
    "kernelspec": {
      "name": "python3",
      "display_name": "Python 3"
    },
    "language_info": {
      "name": "python"
    }
  },
  "cells": [
    {
      "cell_type": "markdown",
      "metadata": {
        "id": "view-in-github",
        "colab_type": "text"
      },
      "source": [
        "<a href=\"https://colab.research.google.com/github/wlghksx/Daily-BAEKJOON/blob/main/%EB%B0%B1%EC%A4%80_%EB%8B%A8%EA%B3%84%EB%B3%84_%EB%B8%8C%EB%A3%A8%ED%8A%B8%ED%8F%AC%EC%8A%A4_210805.ipynb\" target=\"_parent\"><img src=\"https://colab.research.google.com/assets/colab-badge.svg\" alt=\"Open In Colab\"/></a>"
      ]
    },
    {
      "cell_type": "markdown",
      "metadata": {
        "id": "R7kXvKeqaVYN"
      },
      "source": [
        "# 2798번 블랙잭"
      ]
    },
    {
      "cell_type": "code",
      "metadata": {
        "colab": {
          "base_uri": "https://localhost:8080/"
        },
        "id": "9CLtPBJUagQ8",
        "outputId": "ebe3af96-2df2-4d9a-dc0f-c902541310b8"
      },
      "source": [
        "'''\n",
        "N,M = map(int,input().split( ))\n",
        "num_lst = list(map(int,input().split()))\n",
        "\n",
        "num_lst.sort(reverse= False)\n",
        "\n",
        "total = 0\n",
        "count = 0\n",
        "\n",
        "sum_lst = num_lst[0:3]\n",
        "\n",
        "for i in range(3,N) :\n",
        "  for j in sum_lst :\n",
        "    sum_A = sum(sum_lst)\n",
        "    sum_lst.remove(j)\n",
        "    sum_lst.append(num_lst[i])\n",
        "    sum_B = sum(sum_lst)\n",
        "    if abs(sum_A-M) < abs(sum_B-M) :\n",
        "      sum_lst.remove(num_lst[i])\n",
        "      sum_lst.append(j)\n",
        "\n",
        "\n",
        "print(sum_lst)\n",
        "print(sum(sum_lst))\n",
        "'''\n",
        "\n",
        "# 오류가 발생한다.... 슬프다..."
      ],
      "execution_count": 7,
      "outputs": [
        {
          "output_type": "stream",
          "text": [
            "10 500\n",
            "93 181 245 214 315 36 185 138 216 295\n",
            "[93, 214, 185]\n",
            "492\n"
          ],
          "name": "stdout"
        }
      ]
    },
    {
      "cell_type": "code",
      "metadata": {
        "id": "kRv_QIfHhASL"
      },
      "source": [
        "n, m = map(int, input().split())\n",
        "a = list(map(int, input().split()))\n",
        "b = len(a)\n",
        "sum = 0\n",
        "for i in range(0, b - 2):\n",
        "        for j in range(i + 1, b - 1):\n",
        "                for k in range(j + 1, b):\n",
        "                        if a[i] + a[j] + a[k] > m:\n",
        "                                continue\n",
        "                        else:\n",
        "                                sum = max(sum, a[i] + a[j] + a[k])\n",
        "print(sum)"
      ],
      "execution_count": null,
      "outputs": []
    },
    {
      "cell_type": "markdown",
      "metadata": {
        "id": "iunvyC-7lv9j"
      },
      "source": [
        "# 2231번 분해합"
      ]
    },
    {
      "cell_type": "code",
      "metadata": {
        "id": "lLLAoSTBlygx"
      },
      "source": [
        "N = int(input())\n",
        "print_num = 0\n",
        "for i in range(1, N+1):\n",
        "    div_num = list(map(int, str(i)))\n",
        "    sum_num = i + sum(div_num)\n",
        "    if(sum_num == N):\n",
        "        print_num = i\n",
        "        break\n",
        "print(print_num)"
      ],
      "execution_count": null,
      "outputs": []
    }
  ]
}