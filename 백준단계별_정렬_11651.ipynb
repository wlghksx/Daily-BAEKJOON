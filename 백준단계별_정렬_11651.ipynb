{
  "nbformat": 4,
  "nbformat_minor": 0,
  "metadata": {
    "colab": {
      "name": "백준단계별 - 정렬 11651.ipynb",
      "provenance": [],
      "authorship_tag": "ABX9TyMT4cqq+lHnNHsVWrx5s7d+",
      "include_colab_link": true
    },
    "kernelspec": {
      "name": "python3",
      "display_name": "Python 3"
    },
    "language_info": {
      "name": "python"
    }
  },
  "cells": [
    {
      "cell_type": "markdown",
      "metadata": {
        "id": "view-in-github",
        "colab_type": "text"
      },
      "source": [
        "<a href=\"https://colab.research.google.com/github/wlghksx/Daily-BAEKJOON/blob/main/%EB%B0%B1%EC%A4%80%EB%8B%A8%EA%B3%84%EB%B3%84_%EC%A0%95%EB%A0%AC_11651.ipynb\" target=\"_parent\"><img src=\"https://colab.research.google.com/assets/colab-badge.svg\" alt=\"Open In Colab\"/></a>"
      ]
    },
    {
      "cell_type": "markdown",
      "metadata": {
        "id": "1_zb1xJ_xuBC"
      },
      "source": [
        "# 11651 좌표 정렬하기 2"
      ]
    },
    {
      "cell_type": "code",
      "metadata": {
        "colab": {
          "base_uri": "https://localhost:8080/"
        },
        "id": "IJO_lpdnx3LY",
        "outputId": "7b839e7b-d709-4445-a0d9-258e747c78cd"
      },
      "source": [
        "import sys\n",
        "n = int(input())\n",
        "coor_lst = []\n",
        "\n",
        "for i in range(n):\n",
        "  coor_lst.append(list(map(int,sys.stdin.readline().split()))) # 좌표를 리스트 형태로 받아 coor_lst에 저장\n",
        "coor_lst.sort(key=lambda x:(x[1], x[0])) #0키를 이용한 정렬 방법도 있다.\n",
        "\n",
        "for i in coor_lst:\n",
        "  print(i[0], i[1]) "
      ],
      "execution_count": 2,
      "outputs": [
        {
          "output_type": "stream",
          "text": [
            "5\n",
            "0 4\n",
            "1 2\n",
            "1 -1\n",
            "2 2\n",
            "3 3\n",
            "1 -1\n",
            "1 2\n",
            "2 2\n",
            "3 3\n",
            "0 4\n"
          ],
          "name": "stdout"
        }
      ]
    },
    {
      "cell_type": "markdown",
      "metadata": {
        "id": "fW43DSLpy2FW"
      },
      "source": [
        "- 입력이 많을 때는 sys.stdin.readline()을 사용해라!!!"
      ]
    }
  ]
}