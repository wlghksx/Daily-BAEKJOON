{
  "nbformat": 4,
  "nbformat_minor": 0,
  "metadata": {
    "colab": {
      "name": "백준단계별 - 정렬 18870.ipynb",
      "provenance": [],
      "collapsed_sections": [],
      "authorship_tag": "ABX9TyPsSixLW8I/1K12U9G3HGdu",
      "include_colab_link": true
    },
    "kernelspec": {
      "name": "python3",
      "display_name": "Python 3"
    },
    "language_info": {
      "name": "python"
    }
  },
  "cells": [
    {
      "cell_type": "markdown",
      "metadata": {
        "id": "view-in-github",
        "colab_type": "text"
      },
      "source": [
        "<a href=\"https://colab.research.google.com/github/wlghksx/Daily-BAEKJOON/blob/main/%EB%B0%B1%EC%A4%80%EB%8B%A8%EA%B3%84%EB%B3%84_%EC%A0%95%EB%A0%AC_18870.ipynb\" target=\"_parent\"><img src=\"https://colab.research.google.com/assets/colab-badge.svg\" alt=\"Open In Colab\"/></a>"
      ]
    },
    {
      "cell_type": "markdown",
      "metadata": {
        "id": "W1jcPtXUknCx"
      },
      "source": [
        "# 18870번 좌표 압축"
      ]
    },
    {
      "cell_type": "code",
      "metadata": {
        "colab": {
          "base_uri": "https://localhost:8080/",
          "height": 279
        },
        "id": "cbKm3nV1kwW3",
        "outputId": "09a6c056-6967-43e2-ec2d-6de507eec241"
      },
      "source": [
        "'''\n",
        "import sys\n",
        "\n",
        "n = int(input())\n",
        "num_lst = list(map(int,input().split()))\n",
        "# num_lst = list(map(int,sys.stdin.readline().split( )))\n",
        "\n",
        "for i in range(n) :\n",
        "  num_lst[i] = [num_lst[i],i]\n",
        "\n",
        "num_lst.sort(key=lambda x:x[0])\n",
        "\n",
        "for i in range(0,n):\n",
        "  count = 0\n",
        "  for j in range(i,n+1):\n",
        "    if num_lst[i] > num_lst[j]:\n",
        "      count+=1\n",
        "  num_lst[i].append(count)\n",
        "\n",
        "num_lst.sort(key=lambda x:x[1])\n",
        "\n",
        "for i in num_lst:\n",
        "  print(i[2],end=\" \")\n",
        "'''"
      ],
      "execution_count": 7,
      "outputs": [
        {
          "output_type": "stream",
          "text": [
            "5\n",
            "2 4 -10 4 -9\n"
          ],
          "name": "stdout"
        },
        {
          "output_type": "error",
          "ename": "IndexError",
          "evalue": "ignored",
          "traceback": [
            "\u001b[0;31m---------------------------------------------------------------------------\u001b[0m",
            "\u001b[0;31mIndexError\u001b[0m                                Traceback (most recent call last)",
            "\u001b[0;32m<ipython-input-7-c4959becb576>\u001b[0m in \u001b[0;36m<module>\u001b[0;34m()\u001b[0m\n\u001b[1;32m     13\u001b[0m   \u001b[0mcount\u001b[0m \u001b[0;34m=\u001b[0m \u001b[0;36m0\u001b[0m\u001b[0;34m\u001b[0m\u001b[0;34m\u001b[0m\u001b[0m\n\u001b[1;32m     14\u001b[0m   \u001b[0;32mfor\u001b[0m \u001b[0mj\u001b[0m \u001b[0;32min\u001b[0m \u001b[0mrange\u001b[0m\u001b[0;34m(\u001b[0m\u001b[0mi\u001b[0m\u001b[0;34m,\u001b[0m\u001b[0mn\u001b[0m\u001b[0;34m+\u001b[0m\u001b[0;36m1\u001b[0m\u001b[0;34m)\u001b[0m\u001b[0;34m:\u001b[0m\u001b[0;34m\u001b[0m\u001b[0;34m\u001b[0m\u001b[0m\n\u001b[0;32m---> 15\u001b[0;31m     \u001b[0;32mif\u001b[0m \u001b[0mnum_lst\u001b[0m\u001b[0;34m[\u001b[0m\u001b[0mi\u001b[0m\u001b[0;34m]\u001b[0m \u001b[0;34m>\u001b[0m \u001b[0mnum_lst\u001b[0m\u001b[0;34m[\u001b[0m\u001b[0mj\u001b[0m\u001b[0;34m]\u001b[0m\u001b[0;34m:\u001b[0m\u001b[0;34m\u001b[0m\u001b[0;34m\u001b[0m\u001b[0m\n\u001b[0m\u001b[1;32m     16\u001b[0m       \u001b[0mcount\u001b[0m\u001b[0;34m+=\u001b[0m\u001b[0;36m1\u001b[0m\u001b[0;34m\u001b[0m\u001b[0;34m\u001b[0m\u001b[0m\n\u001b[1;32m     17\u001b[0m   \u001b[0mnum_lst\u001b[0m\u001b[0;34m[\u001b[0m\u001b[0mi\u001b[0m\u001b[0;34m]\u001b[0m\u001b[0;34m.\u001b[0m\u001b[0mappend\u001b[0m\u001b[0;34m(\u001b[0m\u001b[0mcount\u001b[0m\u001b[0;34m)\u001b[0m\u001b[0;34m\u001b[0m\u001b[0;34m\u001b[0m\u001b[0m\n",
            "\u001b[0;31mIndexError\u001b[0m: list index out of range"
          ]
        }
      ]
    },
    {
      "cell_type": "markdown",
      "metadata": {
        "id": "IcNv8c3wmOS5"
      },
      "source": [
        "for문의 범위에 대한 설정을 잘못했다."
      ]
    },
    {
      "cell_type": "code",
      "metadata": {
        "colab": {
          "base_uri": "https://localhost:8080/"
        },
        "id": "qeHjdQxDoF84",
        "outputId": "834a5a2b-a793-4ff9-d45d-665fbd8a078a"
      },
      "source": [
        "'''\n",
        "import sys\n",
        "\n",
        "n = int(input())\n",
        "num_lst = list(map(int,input().split()))\n",
        "# num_lst = list(map(int,sys.stdin.readline().split( )))\n",
        "\n",
        "for i in range(n) :\n",
        "  num_lst[i] = [num_lst[i],i]\n",
        "\n",
        "num_lst.sort(key=lambda x:-x[0])\n",
        "print(num_lst)\n",
        "\n",
        "\n",
        "for i in range(0,n):\n",
        "  count = 0\n",
        "  for j in range(i+1,n):\n",
        "    if num_lst[i][0] > num_lst[j][0]:\n",
        "      count +=1\n",
        "  \n",
        "  num_lst[i].append(count)\n",
        "\n",
        "\n",
        "num_lst.sort(key=lambda x:x[1])\n",
        "\n",
        "print(num_lst)\n",
        "\n",
        "for i in num_lst:\n",
        "  print(i[2],end=\" \")\n",
        "'''"
      ],
      "execution_count": 6,
      "outputs": [
        {
          "output_type": "stream",
          "text": [
            "6\n",
            "1000 999 1000 999 1000 999\n",
            "[[1000, 0], [1000, 2], [1000, 4], [999, 1], [999, 3], [999, 5]]\n",
            "[[1000, 0, 3], [999, 1, 0], [1000, 2, 3], [999, 3, 0], [1000, 4, 3], [999, 5, 0]]\n",
            "3 0 3 0 3 0 "
          ],
          "name": "stdout"
        }
      ]
    },
    {
      "cell_type": "markdown",
      "metadata": {
        "id": "lJZhOApVovmf"
      },
      "source": [
        "다음과 같이 풀려고 하다 보니까 중복문제를 생각하지 않았었다."
      ]
    },
    {
      "cell_type": "code",
      "metadata": {
        "colab": {
          "base_uri": "https://localhost:8080/"
        },
        "id": "cdBI6NQDqIfz",
        "outputId": "3ad65fb5-78cd-4ed4-d94c-56ae8f0eda28"
      },
      "source": [
        "import sys\n",
        "\n",
        "n = int(input())\n",
        "\n",
        "num_lst = list(map(int,sys.stdin.readline().split()))\n",
        "num_lst2 = sorted(list((set(num_lst))))\n",
        "\n",
        "dic = {}\n",
        "\n",
        "for i in range(len(num_lst2)):\n",
        "  dic[num_lst2[i]] = i\n",
        "\n",
        "\n",
        "for i in num_lst:\n",
        "  print(dic[i], end = ' ')\n"
      ],
      "execution_count": 11,
      "outputs": [
        {
          "output_type": "stream",
          "text": [
            "5\n",
            "2 4 -10 4 -9\n",
            "{-10: 0, -9: 1, 2: 2, 4: 3}\n",
            "2 3 0 3 1 "
          ],
          "name": "stdout"
        }
      ]
    },
    {
      "cell_type": "code",
      "metadata": {
        "id": "8NHYN9tYpN_U"
      },
      "source": [
        ""
      ],
      "execution_count": null,
      "outputs": []
    }
  ]
}