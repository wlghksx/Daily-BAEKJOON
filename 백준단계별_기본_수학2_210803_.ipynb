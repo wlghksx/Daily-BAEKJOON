{
  "nbformat": 4,
  "nbformat_minor": 0,
  "metadata": {
    "colab": {
      "name": "백준단계별 - 기본 수학2 210803 .ipynb",
      "provenance": [],
      "authorship_tag": "ABX9TyP1/zxrL8e4wIy5W1lpxWGg",
      "include_colab_link": true
    },
    "kernelspec": {
      "name": "python3",
      "display_name": "Python 3"
    },
    "language_info": {
      "name": "python"
    }
  },
  "cells": [
    {
      "cell_type": "markdown",
      "metadata": {
        "id": "view-in-github",
        "colab_type": "text"
      },
      "source": [
        "<a href=\"https://colab.research.google.com/github/wlghksx/Daily-BAEKJOON/blob/main/%EB%B0%B1%EC%A4%80%EB%8B%A8%EA%B3%84%EB%B3%84_%EA%B8%B0%EB%B3%B8_%EC%88%98%ED%95%992_210803_.ipynb\" target=\"_parent\"><img src=\"https://colab.research.google.com/assets/colab-badge.svg\" alt=\"Open In Colab\"/></a>"
      ]
    },
    {
      "cell_type": "markdown",
      "metadata": {
        "id": "ebXmNx_orsI5"
      },
      "source": [
        "# 1085번 직사각형에서 탈출"
      ]
    },
    {
      "cell_type": "code",
      "metadata": {
        "id": "1mTlKmnyr37S"
      },
      "source": [
        "x,y,w,h = map(int,input().split())\n",
        "\n",
        "def distance(x,y,w,h):\n",
        "  right = w-x\n",
        "  left = x\n",
        "  up = h-y\n",
        "  down = y\n",
        "  print(min(right,left,up,down))  # x,y로부터 직사각형에서 각 변까지의 직선길이의 최솟값을 구함\n",
        "\n",
        "distance(x,y,w,h)"
      ],
      "execution_count": null,
      "outputs": []
    },
    {
      "cell_type": "markdown",
      "metadata": {
        "id": "tJ1PigkEsy7c"
      },
      "source": [
        "# 3009번 네 번째 점"
      ]
    },
    {
      "cell_type": "code",
      "metadata": {
        "colab": {
          "base_uri": "https://localhost:8080/"
        },
        "id": "WdEcAjKpt5IM",
        "outputId": "0070a3df-6e77-412d-ae6f-1baa135d4fb5"
      },
      "source": [
        "x_lst = []\n",
        "y_lst = [] \n",
        "\n",
        "for i in range(3):                          # 입력값을 x,y 따로 저장.\n",
        "  x,y = map(int,input().split( ))\n",
        "  x_lst.append(x)\n",
        "  y_lst.append(y)\n",
        "\n",
        "x = 0\n",
        "y = 0\n",
        "\n",
        "for i in x_lst :                            # 한번만 입력된 x,y 검출\n",
        "  if x_lst.count(i) == 1:\n",
        "    x = i\n",
        "\n",
        "for i in y_lst :\n",
        "  if y_lst.count(i) == 1:\n",
        "    y = i\n",
        "\n",
        "print(x, y)                                 # 그것이 마지막 점\n"
      ],
      "execution_count": 8,
      "outputs": [
        {
          "output_type": "stream",
          "text": [
            "5 5\n",
            "5 7\n",
            "7 5\n",
            "7 7\n"
          ],
          "name": "stdout"
        }
      ]
    },
    {
      "cell_type": "markdown",
      "metadata": {
        "id": "UGTDxOxBvHxg"
      },
      "source": [
        "# 4153번 직각삼각형"
      ]
    },
    {
      "cell_type": "code",
      "metadata": {
        "colab": {
          "base_uri": "https://localhost:8080/"
        },
        "id": "YukofJWmvnJx",
        "outputId": "2f4ea14f-db29-4ed6-adb8-ea0169473fce"
      },
      "source": [
        "while True : \n",
        "  x1,y1,z1 = map(int,input().split( ))\n",
        "  if x1 == 0 :\n",
        "    break\n",
        "  else :\n",
        "    num_lst = [x1,y1,z1]\n",
        "    max_num = max(num_lst)\n",
        "    num_lst.remove(max_num)\n",
        "    num_lst.append(max_num)\n",
        "    if num_lst[2]**2 == num_lst[0]**2 + num_lst[1]**2:\n",
        "      print(\"right\")\n",
        "    else:\n",
        "      print(\"wrong\")\n",
        "\n",
        "# 위처럼 해도 정답이지만 좀 더 줄일 수 있을 것 같다."
      ],
      "execution_count": 13,
      "outputs": [
        {
          "output_type": "stream",
          "text": [
            "6 10 8\n",
            "right\n",
            "25 52 60\n",
            "wrong\n",
            "5 13 12\n",
            "right\n",
            "0 0 0\n"
          ],
          "name": "stdout"
        }
      ]
    },
    {
      "cell_type": "code",
      "metadata": {
        "id": "LS7UwnOaxRI1"
      },
      "source": [
        "# list를 미리 지정해주고, append를 사용하지 않음으로써 조금 더 길이를 줄였다.\n",
        "while True : \n",
        "  num_lst = list(map(int,input().split( )))\n",
        "  if num_lst[0] == 0 :\n",
        "    break\n",
        "  else :\n",
        "    max_num = max(num_lst)\n",
        "    num_lst.remove(max_num)\n",
        "    if max_num ** 2 == num_lst[0]**2 + num_lst[1]**2:\n",
        "      print(\"right\")\n",
        "    else:\n",
        "      print(\"wrong\")"
      ],
      "execution_count": null,
      "outputs": []
    },
    {
      "cell_type": "markdown",
      "metadata": {
        "id": "SA7Wc7uFyPAo"
      },
      "source": [
        "# 3053번 택시기하학"
      ]
    },
    {
      "cell_type": "code",
      "metadata": {
        "colab": {
          "base_uri": "https://localhost:8080/"
        },
        "id": "GQ3lq1eezKwN",
        "outputId": "fa02e212-f6bd-461e-bf11-4faf7196c263"
      },
      "source": [
        "from math import pi\n",
        "\n",
        "r = int(input())\n",
        "\n",
        "euclid = r*r*pi\n",
        "taxi = r*r*2  # 비유클리드 거리는 같은 거리를 갖게하려면 일반 원 형태가 아니라 마름모 모양이 나온다.\n",
        "# 따라서 마름모 모양의 넓이인 2r^2을 사용.\n",
        "\n",
        "print(round(euclid,4)) # 5번째 자리에서 반올림 하였다.\n",
        "print(round(taxi,4))\n"
      ],
      "execution_count": 18,
      "outputs": [
        {
          "output_type": "stream",
          "text": [
            "1\n",
            "3.1416\n",
            "2\n"
          ],
          "name": "stdout"
        }
      ]
    },
    {
      "cell_type": "markdown",
      "metadata": {
        "id": "HwwW1FfV0RrY"
      },
      "source": [
        "# 1002번 터렛"
      ]
    },
    {
      "cell_type": "code",
      "metadata": {
        "colab": {
          "base_uri": "https://localhost:8080/"
        },
        "id": "duCmHWmY4guJ",
        "outputId": "a3704139-7a3c-477c-dec8-9e1e41ab8776"
      },
      "source": [
        "import math\n",
        "n = int(input())\n",
        "for i in range(n):\n",
        "\n",
        "  x1,y1,r1,x2,y2,r2 = map(int,input().split( ))\n",
        "\n",
        "  distance = math.sqrt((x1-x2)**2+(y1-y2)**2)\n",
        "\n",
        "  if x1==x2 and y1==y2 :\n",
        "    if r1==r2 and r1>0 and r2>0:\n",
        "      print(-1)\n",
        "    elif r1==r2==0:\n",
        "      print(1)\n",
        "    elif r1!=r2 :\n",
        "      print(0)\n",
        "  elif distance > (r1+r2) : \n",
        "    print(0)\n",
        "  elif distance == (r1+r2) : \n",
        "    print(1)\n",
        "  elif distance < (r1+r2) :\n",
        "    print(2)\n",
        "\n",
        "# 처음엔 이와 같이 제출했는데 틀렸었다. 이유가 무엇일까.\n",
        "# 어떤 부분을 놓쳤을까.\n",
        "# 단순히 r1,r2가 r보다 큰 경우가 아니라 가장 긴 길이가 나머지 두 길이의 합보다 긴 경우로 생각해야할 듯 하다.\n"
      ],
      "execution_count": 25,
      "outputs": [
        {
          "output_type": "stream",
          "text": [
            "1\n",
            "0 0 0 0 0 0\n",
            "1\n"
          ],
          "name": "stdout"
        }
      ]
    },
    {
      "cell_type": "code",
      "metadata": {
        "colab": {
          "base_uri": "https://localhost:8080/"
        },
        "id": "ataS_rtT6_DO",
        "outputId": "a766b29c-5582-48df-d3e0-97b35c76d87a"
      },
      "source": [
        "import math\n",
        "n = int(input())\n",
        "for i in range(n):\n",
        "\n",
        "  x1,y1,r1,x2,y2,r2 = map(int,input().split( ))\n",
        "\n",
        "  distance = math.sqrt((x1-x2)**2+(y1-y2)**2)\n",
        "  R = [r1,r2,distance]\n",
        "  \n",
        "  max_num = max(R)\n",
        "  R.remove(max_num)\n",
        "\n",
        "  if x1==x2 and y1==y2 :\n",
        "    if r1==r2 and r1>0 and r2>0:\n",
        "      print(-1)\n",
        "    elif r1==r2==0:\n",
        "      print(1)\n",
        "    elif r1!=r2 :\n",
        "      print(0)\n",
        "\n",
        "  elif max_num > (R[0]+R[1]) : \n",
        "    print(0)\n",
        "  elif max_num == (R[0]+R[1]) : \n",
        "    print(1)\n",
        "  elif max_num < (R[0]+R[1]) :\n",
        "    print(2)"
      ],
      "execution_count": 28,
      "outputs": [
        {
          "output_type": "stream",
          "text": [
            "3\n",
            "0 0 13 40 0 37\n",
            "2\n",
            "0 0 3 0 7 4\n",
            "1\n",
            "1 1 1 1 1 5\n",
            "0\n"
          ],
          "name": "stdout"
        }
      ]
    },
    {
      "cell_type": "code",
      "metadata": {
        "id": "51BRepI4-gdA"
      },
      "source": [
        "3"
      ],
      "execution_count": null,
      "outputs": []
    }
  ]
}