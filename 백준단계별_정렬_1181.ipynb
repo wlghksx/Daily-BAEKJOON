{
  "nbformat": 4,
  "nbformat_minor": 0,
  "metadata": {
    "colab": {
      "name": "백준단계별 - 정렬 1181.ipynb",
      "provenance": [],
      "collapsed_sections": [],
      "authorship_tag": "ABX9TyNzg5KgTB7EgSmuZJAM9aVD",
      "include_colab_link": true
    },
    "kernelspec": {
      "name": "python3",
      "display_name": "Python 3"
    },
    "language_info": {
      "name": "python"
    }
  },
  "cells": [
    {
      "cell_type": "markdown",
      "metadata": {
        "id": "view-in-github",
        "colab_type": "text"
      },
      "source": [
        "<a href=\"https://colab.research.google.com/github/wlghksx/Daily-BAEKJOON/blob/main/%EB%B0%B1%EC%A4%80%EB%8B%A8%EA%B3%84%EB%B3%84_%EC%A0%95%EB%A0%AC_1181.ipynb\" target=\"_parent\"><img src=\"https://colab.research.google.com/assets/colab-badge.svg\" alt=\"Open In Colab\"/></a>"
      ]
    },
    {
      "cell_type": "markdown",
      "metadata": {
        "id": "OlTUc_4EzCsi"
      },
      "source": [
        "# 1181번 단어 정렬"
      ]
    },
    {
      "cell_type": "code",
      "metadata": {
        "id": "rDisCXqDzN4W"
      },
      "source": [
        "'''\n",
        "n = int(input())\n",
        "\n",
        "a_lst=[]\n",
        "\n",
        "for i in range(n):\n",
        "  a_lst.append(input())\n",
        "\n",
        "word_lst = sorted(a_lst,key=len)\n",
        "\n",
        "for i in word_lst :\n",
        "  print(i)\n",
        "'''\n",
        "\n",
        "\n",
        "# 위와 같이 코드를 짜니까 길이에 따라 정렬을 한 후, 길이가 같은 경우의 알파벳 순으로 정렬.\n",
        "# 2가지의 기능을 동시에 수행하기에는 코드가 복잡해져서 \n",
        "# 애초에 (단어, 길이) 이런식의 정보를 갖게 리스트에 넣어주어야겠다고 생각했다."
      ],
      "execution_count": null,
      "outputs": []
    },
    {
      "cell_type": "code",
      "metadata": {
        "id": "RaGOf-zAz6CF",
        "colab": {
          "base_uri": "https://localhost:8080/"
        },
        "outputId": "c4e0d014-04f2-411e-d728-999e2d506d92"
      },
      "source": [
        "n = int(input())\n",
        "word_lst = []\n",
        "\n",
        "for _ in range(n):\n",
        "  word = str(input())\n",
        "  word_count = len(word)\n",
        "  word_lst.append((word,word_count))\n",
        "\n",
        "word_lst = list(set(word_lst)) #집합을 이용해 중복된 값을 제거했다.\n",
        "\n",
        "word_lst.sort(key = lambda x : (x[1],x[0]))\n",
        "\n",
        "for i in word_lst:\n",
        "  print(i[0])"
      ],
      "execution_count": 19,
      "outputs": [
        {
          "output_type": "stream",
          "text": [
            "13\n",
            "but\n",
            "i\n",
            "wont\n",
            "hesitate\n",
            "no\n",
            "more\n",
            "no\n",
            "more\n",
            "it\n",
            "cannot\n",
            "wait\n",
            "im\n",
            "yours\n",
            "i\n",
            "im\n",
            "it\n",
            "no\n",
            "no\n",
            "but\n",
            "more\n",
            "more\n",
            "wait\n",
            "wont\n",
            "yours\n",
            "cannot\n",
            "hesitate\n"
          ],
          "name": "stdout"
        }
      ]
    },
    {
      "cell_type": "code",
      "metadata": {
        "id": "HGM29IQ9BEdu"
      },
      "source": [
        ""
      ],
      "execution_count": null,
      "outputs": []
    }
  ]
}