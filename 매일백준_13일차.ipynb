{
  "nbformat": 4,
  "nbformat_minor": 0,
  "metadata": {
    "colab": {
      "name": "매일백준_13일차.ipynb",
      "provenance": [],
      "authorship_tag": "ABX9TyMT4fGlgjeKuBR1iVlkWYvg",
      "include_colab_link": true
    },
    "kernelspec": {
      "name": "python3",
      "display_name": "Python 3"
    },
    "language_info": {
      "name": "python"
    }
  },
  "cells": [
    {
      "cell_type": "markdown",
      "metadata": {
        "id": "view-in-github",
        "colab_type": "text"
      },
      "source": [
        "<a href=\"https://colab.research.google.com/github/wlghksx/Daily-BAEKJOON/blob/main/%EB%A7%A4%EC%9D%BC%EB%B0%B1%EC%A4%80_13%EC%9D%BC%EC%B0%A8.ipynb\" target=\"_parent\"><img src=\"https://colab.research.google.com/assets/colab-badge.svg\" alt=\"Open In Colab\"/></a>"
      ]
    },
    {
      "cell_type": "markdown",
      "metadata": {
        "id": "EPt9JII1oDGv"
      },
      "source": [
        "# 2869번 달팽이는 올라가고 싶다."
      ]
    },
    {
      "cell_type": "code",
      "metadata": {
        "id": "AJUbEbReoNhO"
      },
      "source": [
        "import sys\n",
        "import math\n",
        "\n",
        "a, b, v = map(int,sys.stdin.readline().split())\n",
        "day = (v-b) / (a-b)\n",
        "print(math.ceil(day))\n"
      ],
      "execution_count": null,
      "outputs": []
    }
  ]
}