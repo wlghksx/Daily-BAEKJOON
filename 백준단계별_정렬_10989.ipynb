{
  "nbformat": 4,
  "nbformat_minor": 0,
  "metadata": {
    "colab": {
      "name": "백준단계별 - 정렬 10989.ipynb",
      "provenance": [],
      "collapsed_sections": [],
      "authorship_tag": "ABX9TyMjj2Gs3fP2u5CliSj1N8+j",
      "include_colab_link": true
    },
    "kernelspec": {
      "name": "python3",
      "display_name": "Python 3"
    },
    "language_info": {
      "name": "python"
    }
  },
  "cells": [
    {
      "cell_type": "markdown",
      "metadata": {
        "id": "view-in-github",
        "colab_type": "text"
      },
      "source": [
        "<a href=\"https://colab.research.google.com/github/wlghksx/Daily-BAEKJOON/blob/main/%EB%B0%B1%EC%A4%80%EB%8B%A8%EA%B3%84%EB%B3%84_%EC%A0%95%EB%A0%AC_10989.ipynb\" target=\"_parent\"><img src=\"https://colab.research.google.com/assets/colab-badge.svg\" alt=\"Open In Colab\"/></a>"
      ]
    },
    {
      "cell_type": "markdown",
      "metadata": {
        "id": "Zqww8ReBcpxz"
      },
      "source": [
        "# 10989번 수 정렬하기 3"
      ]
    },
    {
      "cell_type": "code",
      "metadata": {
        "colab": {
          "base_uri": "https://localhost:8080/",
          "height": 135
        },
        "id": "UHBRMVDucwDY",
        "outputId": "e7734066-e5e1-4b77-d109-92441846fc5d"
      },
      "source": [
        "import sys\n",
        "\n",
        "n = int(input())\n",
        "num_lst = []\n",
        "\n",
        "for i in range(10001):\n",
        "  num_lst.append(0)\n",
        "\n",
        "for i in range(n) :\n",
        "  num_lst[int(sys.stdin.readline())] += 1\n",
        "\n",
        "for i in range(10001) :\n",
        "  if num_lst[i] != 0 :\n",
        "    for j in range(num_lst[i]):\n",
        "      print(i)"
      ],
      "execution_count": 4,
      "outputs": [
        {
          "output_type": "error",
          "ename": "IndentationError",
          "evalue": "ignored",
          "traceback": [
            "\u001b[0;36m  File \u001b[0;32m\"<ipython-input-4-f03786066ea9>\"\u001b[0;36m, line \u001b[0;32m15\u001b[0m\n\u001b[0;31m    print(i)\u001b[0m\n\u001b[0m        ^\u001b[0m\n\u001b[0;31mIndentationError\u001b[0m\u001b[0;31m:\u001b[0m expected an indented block\n"
          ]
        }
      ]
    },
    {
      "cell_type": "code",
      "metadata": {
        "id": "uLJv1w6JfQ76"
      },
      "source": [
        ""
      ],
      "execution_count": null,
      "outputs": []
    }
  ]
}