{
  "nbformat": 4,
  "nbformat_minor": 0,
  "metadata": {
    "colab": {
      "name": "백준 단계별 -  재귀 210804.ipynb",
      "provenance": [],
      "collapsed_sections": [],
      "authorship_tag": "ABX9TyMZzwWtfNxMMceMSyxe5iFA",
      "include_colab_link": true
    },
    "kernelspec": {
      "name": "python3",
      "display_name": "Python 3"
    },
    "language_info": {
      "name": "python"
    }
  },
  "cells": [
    {
      "cell_type": "markdown",
      "metadata": {
        "id": "view-in-github",
        "colab_type": "text"
      },
      "source": [
        "<a href=\"https://colab.research.google.com/github/wlghksx/Daily-BAEKJOON/blob/main/%EB%B0%B1%EC%A4%80_%EB%8B%A8%EA%B3%84%EB%B3%84_%EC%9E%AC%EA%B7%80_210804.ipynb\" target=\"_parent\"><img src=\"https://colab.research.google.com/assets/colab-badge.svg\" alt=\"Open In Colab\"/></a>"
      ]
    },
    {
      "cell_type": "markdown",
      "metadata": {
        "id": "XZvRWEPz0NdB"
      },
      "source": [
        "# 10872번 팩토리얼"
      ]
    },
    {
      "cell_type": "code",
      "metadata": {
        "colab": {
          "base_uri": "https://localhost:8080/"
        },
        "id": "Kdc8mYhH0SEW",
        "outputId": "84806d13-9389-49d5-dc8a-0c44c5e24289"
      },
      "source": [
        "def fac(n):\n",
        "  if n == 0 : \n",
        "    return 1\n",
        "  else : \n",
        "    return n*fac(n-1)\n",
        "  \n",
        "n = int(input())\n",
        "\n",
        "print(fac(n))\n"
      ],
      "execution_count": 3,
      "outputs": [
        {
          "output_type": "stream",
          "text": [
            "10\n",
            "3628800\n"
          ],
          "name": "stdout"
        }
      ]
    },
    {
      "cell_type": "markdown",
      "metadata": {
        "id": "nRm7Salx05v3"
      },
      "source": [
        "# 10870 피보나치 수열"
      ]
    },
    {
      "cell_type": "code",
      "metadata": {
        "colab": {
          "base_uri": "https://localhost:8080/"
        },
        "id": "hxHqQ5E81Z4B",
        "outputId": "8d168b60-0450-4d2a-e897-1f27269da688"
      },
      "source": [
        "def fibo(n):\n",
        "  if n <= 1 :\n",
        "    return n\n",
        "  return fibo(n-1) + fibo(n-2)\n",
        "\n",
        "n = int(input())\n",
        "print(fibo(n))"
      ],
      "execution_count": 4,
      "outputs": [
        {
          "output_type": "stream",
          "text": [
            "10\n",
            "55\n"
          ],
          "name": "stdout"
        }
      ]
    },
    {
      "cell_type": "code",
      "metadata": {
        "id": "DU0_1oTA2WFS"
      },
      "source": [
        ""
      ],
      "execution_count": null,
      "outputs": []
    }
  ]
}